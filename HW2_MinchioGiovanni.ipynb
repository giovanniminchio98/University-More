{
  "nbformat": 4,
  "nbformat_minor": 0,
  "metadata": {
    "colab": {
      "name": "HW2.ipynb",
      "provenance": [],
      "collapsed_sections": [],
      "toc_visible": true,
      "history_visible": true
    },
    "kernelspec": {
      "display_name": "Python 3",
      "name": "python3"
    }
  },
  "cells": [
    {
      "cell_type": "markdown",
      "metadata": {
        "id": "QUc9frYnVBI_"
      },
      "source": [
        "#**HW 2: Optimize and train Deep Models**\n",
        "\n",
        "In this homework, we will explore how to develop a simple Deep Neural Network for a classification problem. We will explore two common libraries: TensorFlow and Keras.\n",
        "Then we will explore how to face a well known problem that is common to encounter during the training phase: the Overfitting.\n",
        "Finally, we will study how to perform a fair model selection.\n",
        "Hint: Before starting the exercise take a look at how Tensorflow and Keras are designed.  https://keras.io/"
      ]
    },
    {
      "cell_type": "markdown",
      "metadata": {
        "id": "e-Nc7mFSVEiU"
      },
      "source": [
        "##Exercise 2.1: Image Classficiation with Tensorflow and Keras\n",
        "\n",
        "In this first exercise we will develop a 3 layers Neural Network to perfrom classification.\n",
        "\n",
        "Let's start importing the libraries we will need and setting a couple of environmental variables.\n"
      ]
    },
    {
      "cell_type": "code",
      "metadata": {
        "id": "bWn9FzneVqJo"
      },
      "source": [
        "import matplotlib as mpl\n",
        "import matplotlib.pyplot as plt\n",
        "import numpy as np\n",
        "import os\n",
        "import pandas as pd\n",
        "import sklearn\n",
        "import sys\n",
        "import tensorflow as tf\n",
        "from tensorflow import keras  # tf.keras\n",
        "import time\n",
        "\n",
        "import logging\n",
        "logging.disable(logging.WARNING)\n",
        "os.environ[\"TF_CPP_MIN_LOG_LEVEL\"] = \"3\" \n",
        "\n",
        "\n",
        "\n",
        "tf.random.set_seed(42)\n",
        "# os.environ['TF_DETERMINISTIC_OPS']='1'"
      ],
      "execution_count": 1,
      "outputs": []
    },
    {
      "cell_type": "markdown",
      "metadata": {
        "id": "LT2HMYDEXcx0"
      },
      "source": [
        "### Load Data: IMDB dataset\n",
        "\n",
        "In this HW, we use the IMDB dataset that can be easily downloaded using Keras. The dataset contains 50,000 movie reviews from IMDB, labeled by sentiment (positive/negative). Reviews have been preprocessed, and each review is encoded as a sequence of word indexes. For convenience, the words are indexed by the overall frequency in the dataset, so that for example the integer \"3\" encodes the 3rd most frequent word in the data. For testing purposes, we will only consider the first 10,000  most common words.\n",
        "By default, the load_data method returns a breakdown of the dataset into training and test sets. Both these sets contain 25,000 samples. To also have a validation set, we split the test set in half.\n",
        "\n"
      ]
    },
    {
      "cell_type": "code",
      "metadata": {
        "id": "JZv86gBLXj-D",
        "colab": {
          "base_uri": "https://localhost:8080/"
        },
        "outputId": "84d8ebb6-a013-4114-d255-fe87bea89560"
      },
      "source": [
        "num_words = 1000\n",
        "(X_train, y_train), (X_test, y_test) = keras.datasets.imdb.load_data(num_words=num_words)\n",
        "(X_valid, X_test) = X_test[:12500], X_test[12500:]\n",
        "(y_valid, y_test) = y_test[:12500], y_test[12500:]"
      ],
      "execution_count": 2,
      "outputs": [
        {
          "output_type": "stream",
          "text": [
            "<string>:6: VisibleDeprecationWarning: Creating an ndarray from ragged nested sequences (which is a list-or-tuple of lists-or-tuples-or ndarrays with different lengths or shapes) is deprecated. If you meant to do this, you must specify 'dtype=object' when creating the ndarray\n",
            "/usr/local/lib/python3.7/dist-packages/tensorflow/python/keras/datasets/imdb.py:159: VisibleDeprecationWarning: Creating an ndarray from ragged nested sequences (which is a list-or-tuple of lists-or-tuples-or ndarrays with different lengths or shapes) is deprecated. If you meant to do this, you must specify 'dtype=object' when creating the ndarray\n",
            "  x_train, y_train = np.array(xs[:idx]), np.array(labels[:idx])\n",
            "/usr/local/lib/python3.7/dist-packages/tensorflow/python/keras/datasets/imdb.py:160: VisibleDeprecationWarning: Creating an ndarray from ragged nested sequences (which is a list-or-tuple of lists-or-tuples-or ndarrays with different lengths or shapes) is deprecated. If you meant to do this, you must specify 'dtype=object' when creating the ndarray\n",
            "  x_test, y_test = np.array(xs[idx:]), np.array(labels[idx:])\n"
          ],
          "name": "stderr"
        }
      ]
    },
    {
      "cell_type": "markdown",
      "metadata": {
        "id": "TEZHVHpuPdQF"
      },
      "source": [
        "In this HW we will consider a Deep Neural Network. The IMDB data consists in reviews, each one composed by a seqeunce of words. In order to encode each review in a single tensor with a fixed number of elements, we will use multi-hot encoding. Multi-hot-encoding our lists means turning them into vectors of 0s and 1s. Concretely, this would mean for instance turning the sequence [3, 5] into a 10,000-dimensional vector that would be all-zeros except for indices 3 and 5, which would be ones. The obtained input representation indicates which words are present (at least one time) in the sentence.\n",
        "\n",
        " "
      ]
    },
    {
      "cell_type": "code",
      "metadata": {
        "id": "hxE9DhiFPP0T"
      },
      "source": [
        "def multi_hot_encoder(dataset, num_word):\n",
        "  dataset_multi_hot=[]\n",
        "  for sequence in dataset:\n",
        "    index, _ = tf.unique(sequence)\n",
        "    dataset_multi_hot.append(tf.reduce_max(tf.one_hot(index-1, num_word, dtype=tf.int32), axis=0))\n",
        "  dataset_multi_hot = tf.stack(dataset_multi_hot)\n",
        "  return dataset_multi_hot\n",
        "\n",
        "X_train = multi_hot_encoder(X_train,num_words)\n",
        "X_test = multi_hot_encoder(X_test,num_words)\n",
        "X_valid = multi_hot_encoder(X_valid,num_words)"
      ],
      "execution_count": 3,
      "outputs": []
    },
    {
      "cell_type": "markdown",
      "metadata": {
        "id": "jGUg8TexZMNf"
      },
      "source": [
        "### Define the model:\n",
        "\n",
        "Let's build a Sequential model (keras.models.Sequential) and add four layers to it by calling its add() method:\n",
        "\n",
        "\n",
        "*   a input layer (tf.keras.Input) that is the first layer in your model. With this layer you should specify the input_shape argument, leaving out the batch size: (num_words,);\n",
        "*  a Dense layer (keras.layers.Dense) with 16 neurons, and the \"relu\" activation function;\n",
        "* another Dense layer with 16 neurons, also with the \"relu\" activation function;\n",
        "* a final Dense layer with 1 output neurons, and with the \"sigmoid\" activation (since we considering a binary classification task)."
      ]
    },
    {
      "cell_type": "code",
      "metadata": {
        "id": "OaoEISyaZL56"
      },
      "source": [
        "model = keras.models.Sequential()\n",
        "model.add(tf.keras.Input(shape=(num_words,)))\n",
        "model.add(keras.layers.Dense(16, activation=\"relu\"))\n",
        "model.add(keras.layers.Dense(16, activation=\"relu\"))\n",
        "model.add(keras.layers.Dense(1, activation=\"sigmoid\"))\n",
        "\n"
      ],
      "execution_count": 4,
      "outputs": []
    },
    {
      "cell_type": "markdown",
      "metadata": {
        "id": "fYfxUOQVZljh"
      },
      "source": [
        "Call the model's summary() method to check if the model has been built correctly. Also, try using keras.utils.plot_model() to save an image of your model's architecture."
      ]
    },
    {
      "cell_type": "code",
      "metadata": {
        "id": "IpGkQl5dZoWq",
        "colab": {
          "base_uri": "https://localhost:8080/"
        },
        "outputId": "bb19ffd7-0438-4335-a98f-83f989074ab1"
      },
      "source": [
        "model.summary()"
      ],
      "execution_count": 5,
      "outputs": [
        {
          "output_type": "stream",
          "text": [
            "Model: \"sequential\"\n",
            "_________________________________________________________________\n",
            "Layer (type)                 Output Shape              Param #   \n",
            "=================================================================\n",
            "dense (Dense)                (None, 16)                16016     \n",
            "_________________________________________________________________\n",
            "dense_1 (Dense)              (None, 16)                272       \n",
            "_________________________________________________________________\n",
            "dense_2 (Dense)              (None, 1)                 17        \n",
            "=================================================================\n",
            "Total params: 16,305\n",
            "Trainable params: 16,305\n",
            "Non-trainable params: 0\n",
            "_________________________________________________________________\n"
          ],
          "name": "stdout"
        }
      ]
    },
    {
      "cell_type": "code",
      "metadata": {
        "id": "b1NbkrXRZwOA",
        "colab": {
          "base_uri": "https://localhost:8080/",
          "height": 422
        },
        "outputId": "b4273d8c-44c0-412c-98f9-4eab153e1b53"
      },
      "source": [
        "keras.utils.plot_model(model, \"my_imdb_model.png\", show_shapes=True)"
      ],
      "execution_count": 6,
      "outputs": [
        {
          "output_type": "execute_result",
          "data": {
            "image/png": "[encoded data removed]",
            "text/plain": [
              "<IPython.core.display.Image object>"
            ]
          },
          "metadata": {
            "tags": []
          },
          "execution_count": 6
        }
      ]
    },
    {
      "cell_type": "markdown",
      "metadata": {
        "id": "Mc3xzuA-33WH"
      },
      "source": [
        "As you can see, the first dimension of each layer is not defined (?), indeed this dimension in each layer is variable and depends on the batch size."
      ]
    },
    {
      "cell_type": "markdown",
      "metadata": {
        "id": "6FAjFixuHSA_"
      },
      "source": [
        "Instaed of using *add()* method it is also possibile to define the model using the following syntax"
      ]
    },
    {
      "cell_type": "code",
      "metadata": {
        "id": "yOhr57M9GPHy",
        "colab": {
          "base_uri": "https://localhost:8080/",
          "height": 660
        },
        "outputId": "60c799d9-1a3e-47c9-f75e-988be2e18899"
      },
      "source": [
        "model = keras.models.Sequential([\n",
        "    tf.keras.Input(shape=(num_words,)),\n",
        "    keras.layers.Dense(16, activation=\"relu\"),\n",
        "    keras.layers.Dense(16, activation=\"relu\"),\n",
        "    keras.layers.Dense(1, activation=\"sigmoid\")\n",
        "])\n",
        "model.summary()\n",
        "keras.utils.plot_model(model, \"my_imdb_model.png\", show_shapes=True)"
      ],
      "execution_count": 7,
      "outputs": [
        {
          "output_type": "stream",
          "text": [
            "Model: \"sequential_1\"\n",
            "_________________________________________________________________\n",
            "Layer (type)                 Output Shape              Param #   \n",
            "=================================================================\n",
            "dense_3 (Dense)              (None, 16)                16016     \n",
            "_________________________________________________________________\n",
            "dense_4 (Dense)              (None, 16)                272       \n",
            "_________________________________________________________________\n",
            "dense_5 (Dense)              (None, 1)                 17        \n",
            "=================================================================\n",
            "Total params: 16,305\n",
            "Trainable params: 16,305\n",
            "Non-trainable params: 0\n",
            "_________________________________________________________________\n"
          ],
          "name": "stdout"
        },
        {
          "output_type": "execute_result",
          "data": {
            "image/png": "[encoded data removed]",
            "text/plain": [
              "<IPython.core.display.Image object>"
            ]
          },
          "metadata": {
            "tags": []
          },
          "execution_count": 7
        }
      ]
    },
    {
      "cell_type": "markdown",
      "metadata": {
        "id": "2ySdJmzxaSuz"
      },
      "source": [
        "### Optimize the model:\n",
        "\n",
        "After the model has been created, you must call its compile() method to specify the loss function and the optimizer to use.\n",
        "\n",
        "Since the model performs a binary classification task, we use the bynary cross-entropy as loss. As optimizer we use Adam.\n",
        "\n",
        "Moreover, you can optionally specify a list of additional metrics that should be measured during training. In this case we specify metrics=[\"accuracy\"]."
      ]
    },
    {
      "cell_type": "code",
      "metadata": {
        "id": "x3bbsY3uaeh5"
      },
      "source": [
        "model.compile(loss=\"binary_crossentropy\",\n",
        "              optimizer=keras.optimizers.Adam(learning_rate=1e-4),\n",
        "              metrics=[\"accuracy\"])"
      ],
      "execution_count": 8,
      "outputs": []
    },
    {
      "cell_type": "markdown",
      "metadata": {
        "id": "NB9SV0MpaeTg"
      },
      "source": [
        "Now our model is ready to be trained. Call its fit() method, passing to it the input features (X_train) and the target classes (y_train). Set the number of epochs to 20. \n",
        "In order to validate our model we will also pass the validation data by setting validation_data=(X_valid, y_valid). Keras will compute the loss and the additional metrics (the accuracy in this case) on the validation set at the end of each epoch. If the loss on the training set is much lower than the one on the validation set, your model is probably overfitting the training set. Note: the fit() method will return a History object containing training stats."
      ]
    },
    {
      "cell_type": "code",
      "metadata": {
        "id": "5whx-LU3aoKn",
        "colab": {
          "base_uri": "https://localhost:8080/"
        },
        "outputId": "529dbdd4-e047-440c-e21f-00a6b919f780"
      },
      "source": [
        "history = model.fit(X_train, y_train, epochs=20,\n",
        "                    validation_data=(X_valid, y_valid))"
      ],
      "execution_count": 9,
      "outputs": [
        {
          "output_type": "stream",
          "text": [
            "Epoch 1/20\n",
            "782/782 [==============================] - 3s 3ms/step - loss: 0.6691 - accuracy: 0.5917 - val_loss: 0.5086 - val_accuracy: 0.7899\n",
            "Epoch 2/20\n",
            "782/782 [==============================] - 2s 2ms/step - loss: 0.4609 - accuracy: 0.8105 - val_loss: 0.3856 - val_accuracy: 0.8406\n",
            "Epoch 3/20\n",
            "782/782 [==============================] - 2s 2ms/step - loss: 0.3556 - accuracy: 0.8580 - val_loss: 0.3534 - val_accuracy: 0.8515\n",
            "Epoch 4/20\n",
            "782/782 [==============================] - 2s 2ms/step - loss: 0.3298 - accuracy: 0.8647 - val_loss: 0.3407 - val_accuracy: 0.8543\n",
            "Epoch 5/20\n",
            "782/782 [==============================] - 2s 2ms/step - loss: 0.3148 - accuracy: 0.8714 - val_loss: 0.3377 - val_accuracy: 0.8555\n",
            "Epoch 6/20\n",
            "782/782 [==============================] - 2s 2ms/step - loss: 0.3055 - accuracy: 0.8712 - val_loss: 0.3344 - val_accuracy: 0.8565\n",
            "Epoch 7/20\n",
            "782/782 [==============================] - 2s 2ms/step - loss: 0.2989 - accuracy: 0.8771 - val_loss: 0.3344 - val_accuracy: 0.8562\n",
            "Epoch 8/20\n",
            "782/782 [==============================] - 2s 2ms/step - loss: 0.3030 - accuracy: 0.8742 - val_loss: 0.3344 - val_accuracy: 0.8557\n",
            "Epoch 9/20\n",
            "782/782 [==============================] - 2s 2ms/step - loss: 0.2970 - accuracy: 0.8784 - val_loss: 0.3352 - val_accuracy: 0.8549\n",
            "Epoch 10/20\n",
            "782/782 [==============================] - 2s 2ms/step - loss: 0.2928 - accuracy: 0.8781 - val_loss: 0.3355 - val_accuracy: 0.8552\n",
            "Epoch 11/20\n",
            "782/782 [==============================] - 2s 2ms/step - loss: 0.2966 - accuracy: 0.8797 - val_loss: 0.3366 - val_accuracy: 0.8539\n",
            "Epoch 12/20\n",
            "782/782 [==============================] - 2s 2ms/step - loss: 0.2865 - accuracy: 0.8849 - val_loss: 0.3373 - val_accuracy: 0.8549\n",
            "Epoch 13/20\n",
            "782/782 [==============================] - 2s 2ms/step - loss: 0.2954 - accuracy: 0.8803 - val_loss: 0.3393 - val_accuracy: 0.8543\n",
            "Epoch 14/20\n",
            "782/782 [==============================] - 2s 2ms/step - loss: 0.2856 - accuracy: 0.8837 - val_loss: 0.3387 - val_accuracy: 0.8536\n",
            "Epoch 15/20\n",
            "782/782 [==============================] - 2s 2ms/step - loss: 0.2884 - accuracy: 0.8822 - val_loss: 0.3398 - val_accuracy: 0.8538\n",
            "Epoch 16/20\n",
            "782/782 [==============================] - 2s 2ms/step - loss: 0.2878 - accuracy: 0.8806 - val_loss: 0.3405 - val_accuracy: 0.8534\n",
            "Epoch 17/20\n",
            "782/782 [==============================] - 2s 2ms/step - loss: 0.2871 - accuracy: 0.8821 - val_loss: 0.3418 - val_accuracy: 0.8546\n",
            "Epoch 18/20\n",
            "782/782 [==============================] - 2s 2ms/step - loss: 0.2822 - accuracy: 0.8861 - val_loss: 0.3427 - val_accuracy: 0.8542\n",
            "Epoch 19/20\n",
            "782/782 [==============================] - 2s 2ms/step - loss: 0.2847 - accuracy: 0.8863 - val_loss: 0.3433 - val_accuracy: 0.8526\n",
            "Epoch 20/20\n",
            "782/782 [==============================] - 2s 2ms/step - loss: 0.2792 - accuracy: 0.8863 - val_loss: 0.3445 - val_accuracy: 0.8531\n"
          ],
          "name": "stdout"
        }
      ]
    },
    {
      "cell_type": "markdown",
      "metadata": {
        "id": "EPxiw8iCADr-"
      },
      "source": [
        "Let's plot the loss and the accuracy trends on both training and validation sets. We define the \"plot_learning_acc_and_loss\" function because we will reuse it in the next steps."
      ]
    },
    {
      "cell_type": "code",
      "metadata": {
        "id": "AJg-F7mUa7st",
        "colab": {
          "base_uri": "https://localhost:8080/",
          "height": 320
        },
        "outputId": "77e269a9-27e7-45fb-8bdf-13115bd5a134"
      },
      "source": [
        "def plot_learning_acc_and_loss(history):\n",
        "    pd.DataFrame(history.history).plot(figsize=(8, 5))\n",
        "    plt.grid(True)\n",
        "    plt.show()\n",
        "plot_learning_acc_and_loss(history)"
      ],
      "execution_count": 10,
      "outputs": [
        {
          "output_type": "display_data",
          "data": {
            "image/png": "[encoded data removed]",
            "text/plain": [
              "<Figure size 576x360 with 1 Axes>"
            ]
          },
          "metadata": {
            "tags": [],
            "needs_background": "light"
          }
        }
      ]
    },
    {
      "cell_type": "markdown",
      "metadata": {
        "id": "9O3-sLmxansJ"
      },
      "source": [
        "### [TO COMPLETE] Evaluate the model:\n",
        "\n",
        "Now, our model has been optimized on the training set, and as you can see the performance on the validation set in quite similar (so it does not overfit the training data). Let's now evaluate the performance of our model using the test set."
      ]
    },
    {
      "cell_type": "code",
      "metadata": {
        "id": "q-ZvJEcObdyB",
        "colab": {
          "base_uri": "https://localhost:8080/"
        },
        "outputId": "cc18cf6b-bdb8-463d-d29f-40625b601054"
      },
      "source": [
        "model.evaluate(X_test, y_test)"
      ],
      "execution_count": 11,
      "outputs": [
        {
          "output_type": "stream",
          "text": [
            "391/391 [==============================] - 0s 1ms/step - loss: 0.3227 - accuracy: 0.8662\n"
          ],
          "name": "stdout"
        },
        {
          "output_type": "execute_result",
          "data": {
            "text/plain": [
              "[0.32265692949295044, 0.8662400245666504]"
            ]
          },
          "metadata": {
            "tags": []
          },
          "execution_count": 11
        }
      ]
    },
    {
      "cell_type": "markdown",
      "metadata": {
        "id": "KTSxlnwrII-n"
      },
      "source": [
        "[TO COMPLETE] Explain why it is important to use test and validation, and why it is important to evaluate the model on the test set instead of the validation set. Finally, explain which is the usefulness of the validation set. Insert the discussion in this cell.\n",
        "\n",
        "ANSWER:\n",
        "Assuming clear why we slipt the data in train and valid set, the split in train, valid and test set is very easy. The validation set is used to make sure we dont overfit (crudely: \"when train loss is getting better and valid_loss worse\"). The test set is meant to be a set with completly unseen data in order to confirm the predictive power of the network (obtain after the training, in which we used both train and valid set)."
      ]
    },
    {
      "cell_type": "markdown",
      "metadata": {
        "id": "aeGlzKe864Gq"
      },
      "source": [
        "## [TO COMPLETE] Exercise 2.2: Overfiting\n",
        "\n",
        "A common problem that occurs when you train a deep neural network is overfittig. Overfitting occurs when you achieve a good fit of your model on the training data, while it does not generalize well on new, unseen data. In other words, the model learned patterns specific to the training data, which are irrelevant in other data.\n",
        "As we have seen in the previous exercise, our model does not overfit the training data. In this exercise, we try to modify the training parameters in order to have a model that overfits.\n",
        "Overfitting can have many causes and usually is a combination of some of them, for instance: too many parameters/ layers, too few training samples, wrong learning rate (usualy too high), etc..\n",
        "\n",
        "[TO COMPLETE] In the next cell define a new model (similar to the previuos one) that overfits the training data; then plot the trend of the loss in training and validation set."
      ]
    },
    {
      "cell_type": "code",
      "metadata": {
        "id": "T2B2DFEC8f88",
        "colab": {
          "base_uri": "https://localhost:8080/"
        },
        "outputId": "9113a79f-3b33-4657-96f1-1025a79e7332"
      },
      "source": [
        "model = keras.models.Sequential([\n",
        "    tf.keras.Input(shape=(num_words,)),\n",
        "    keras.layers.Dense(16, activation=\"relu\"),\n",
        "    keras.layers.Dense(32, activation=\"relu\"),# BIGGER NUMBER OF NEURONS, 16-->32\n",
        "    keras.layers.Dense(1, activation=\"sigmoid\")\n",
        "])\n",
        "model.summary()\n",
        "#[TO COMPLETE] modify the previuos model in order to obtain a new mdel that overfit the training data\n",
        "\n",
        "model.compile(loss=\"binary_crossentropy\",\n",
        "              optimizer=keras.optimizers.Adam(learning_rate=1e-4),#[TO COMPLETE] learning rate, USED SAME AS BEFORE\n",
        "              metrics=[\"accuracy\"])\n",
        "\n",
        "history = model.fit(X_train, y_train, epochs=40,#[TO COMPLETE] DOUBLED, 20-->40\n",
        "                    validation_data=(X_valid, y_valid))\n",
        "\n",
        "print(\"Model Evaluation\")\n",
        "model.evaluate(X_test, y_test)"
      ],
      "execution_count": 12,
      "outputs": [
        {
          "output_type": "stream",
          "text": [
            "Model: \"sequential_2\"\n",
            "_________________________________________________________________\n",
            "Layer (type)                 Output Shape              Param #   \n",
            "=================================================================\n",
            "dense_6 (Dense)              (None, 16)                16016     \n",
            "_________________________________________________________________\n",
            "dense_7 (Dense)              (None, 32)                544       \n",
            "_________________________________________________________________\n",
            "dense_8 (Dense)              (None, 1)                 33        \n",
            "=================================================================\n",
            "Total params: 16,593\n",
            "Trainable params: 16,593\n",
            "Non-trainable params: 0\n",
            "_________________________________________________________________\n",
            "Epoch 1/40\n",
            "782/782 [==============================] - 2s 2ms/step - loss: 0.6657 - accuracy: 0.5928 - val_loss: 0.4911 - val_accuracy: 0.7922\n",
            "Epoch 2/40\n",
            "782/782 [==============================] - 2s 2ms/step - loss: 0.4436 - accuracy: 0.8141 - val_loss: 0.3782 - val_accuracy: 0.8386\n",
            "Epoch 3/40\n",
            "782/782 [==============================] - 2s 2ms/step - loss: 0.3478 - accuracy: 0.8549 - val_loss: 0.3510 - val_accuracy: 0.8501\n",
            "Epoch 4/40\n",
            "782/782 [==============================] - 2s 2ms/step - loss: 0.3237 - accuracy: 0.8645 - val_loss: 0.3405 - val_accuracy: 0.8531\n",
            "Epoch 5/40\n",
            "782/782 [==============================] - 2s 2ms/step - loss: 0.3100 - accuracy: 0.8731 - val_loss: 0.3384 - val_accuracy: 0.8549\n",
            "Epoch 6/40\n",
            "782/782 [==============================] - 2s 2ms/step - loss: 0.3017 - accuracy: 0.8765 - val_loss: 0.3355 - val_accuracy: 0.8559\n",
            "Epoch 7/40\n",
            "782/782 [==============================] - 2s 2ms/step - loss: 0.2961 - accuracy: 0.8773 - val_loss: 0.3360 - val_accuracy: 0.8550\n",
            "Epoch 8/40\n",
            "782/782 [==============================] - 2s 2ms/step - loss: 0.2984 - accuracy: 0.8768 - val_loss: 0.3359 - val_accuracy: 0.8559\n",
            "Epoch 9/40\n",
            "782/782 [==============================] - 2s 2ms/step - loss: 0.2920 - accuracy: 0.8807 - val_loss: 0.3367 - val_accuracy: 0.8558\n",
            "Epoch 10/40\n",
            "782/782 [==============================] - 2s 2ms/step - loss: 0.2869 - accuracy: 0.8818 - val_loss: 0.3371 - val_accuracy: 0.8558\n",
            "Epoch 11/40\n",
            "782/782 [==============================] - 2s 2ms/step - loss: 0.2882 - accuracy: 0.8819 - val_loss: 0.3385 - val_accuracy: 0.8546\n",
            "Epoch 12/40\n",
            "782/782 [==============================] - 2s 2ms/step - loss: 0.2773 - accuracy: 0.8881 - val_loss: 0.3387 - val_accuracy: 0.8552\n",
            "Epoch 13/40\n",
            "782/782 [==============================] - 2s 2ms/step - loss: 0.2849 - accuracy: 0.8830 - val_loss: 0.3414 - val_accuracy: 0.8539\n",
            "Epoch 14/40\n",
            "782/782 [==============================] - 2s 2ms/step - loss: 0.2735 - accuracy: 0.8886 - val_loss: 0.3404 - val_accuracy: 0.8532\n",
            "Epoch 15/40\n",
            "782/782 [==============================] - 2s 2ms/step - loss: 0.2729 - accuracy: 0.8878 - val_loss: 0.3413 - val_accuracy: 0.8541\n",
            "Epoch 16/40\n",
            "782/782 [==============================] - 2s 2ms/step - loss: 0.2711 - accuracy: 0.8877 - val_loss: 0.3430 - val_accuracy: 0.8523\n",
            "Epoch 17/40\n",
            "782/782 [==============================] - 2s 2ms/step - loss: 0.2669 - accuracy: 0.8913 - val_loss: 0.3443 - val_accuracy: 0.8522\n",
            "Epoch 18/40\n",
            "782/782 [==============================] - 2s 2ms/step - loss: 0.2635 - accuracy: 0.8949 - val_loss: 0.3461 - val_accuracy: 0.8502\n",
            "Epoch 19/40\n",
            "782/782 [==============================] - 2s 2ms/step - loss: 0.2649 - accuracy: 0.8956 - val_loss: 0.3463 - val_accuracy: 0.8503\n",
            "Epoch 20/40\n",
            "782/782 [==============================] - 2s 2ms/step - loss: 0.2554 - accuracy: 0.8982 - val_loss: 0.3489 - val_accuracy: 0.8509\n",
            "Epoch 21/40\n",
            "782/782 [==============================] - 2s 2ms/step - loss: 0.2575 - accuracy: 0.8985 - val_loss: 0.3524 - val_accuracy: 0.8490\n",
            "Epoch 22/40\n",
            "782/782 [==============================] - 2s 2ms/step - loss: 0.2497 - accuracy: 0.8971 - val_loss: 0.3554 - val_accuracy: 0.8506\n",
            "Epoch 23/40\n",
            "782/782 [==============================] - 2s 2ms/step - loss: 0.2408 - accuracy: 0.9046 - val_loss: 0.3557 - val_accuracy: 0.8486\n",
            "Epoch 24/40\n",
            "782/782 [==============================] - 2s 2ms/step - loss: 0.2371 - accuracy: 0.9067 - val_loss: 0.3578 - val_accuracy: 0.8480\n",
            "Epoch 25/40\n",
            "782/782 [==============================] - 2s 2ms/step - loss: 0.2328 - accuracy: 0.9072 - val_loss: 0.3636 - val_accuracy: 0.8478\n",
            "Epoch 26/40\n",
            "782/782 [==============================] - 2s 2ms/step - loss: 0.2361 - accuracy: 0.9071 - val_loss: 0.3642 - val_accuracy: 0.8453\n",
            "Epoch 27/40\n",
            "782/782 [==============================] - 2s 2ms/step - loss: 0.2292 - accuracy: 0.9088 - val_loss: 0.3664 - val_accuracy: 0.8466\n",
            "Epoch 28/40\n",
            "782/782 [==============================] - 2s 2ms/step - loss: 0.2227 - accuracy: 0.9125 - val_loss: 0.3699 - val_accuracy: 0.8432\n",
            "Epoch 29/40\n",
            "782/782 [==============================] - 2s 2ms/step - loss: 0.2220 - accuracy: 0.9119 - val_loss: 0.3726 - val_accuracy: 0.8427\n",
            "Epoch 30/40\n",
            "782/782 [==============================] - 2s 2ms/step - loss: 0.2184 - accuracy: 0.9150 - val_loss: 0.3746 - val_accuracy: 0.8426\n",
            "Epoch 31/40\n",
            "782/782 [==============================] - 2s 2ms/step - loss: 0.2132 - accuracy: 0.9183 - val_loss: 0.3769 - val_accuracy: 0.8434\n",
            "Epoch 32/40\n",
            "782/782 [==============================] - 2s 2ms/step - loss: 0.2124 - accuracy: 0.9173 - val_loss: 0.3845 - val_accuracy: 0.8448\n",
            "Epoch 33/40\n",
            "782/782 [==============================] - 2s 2ms/step - loss: 0.2071 - accuracy: 0.9186 - val_loss: 0.3858 - val_accuracy: 0.8405\n",
            "Epoch 34/40\n",
            "782/782 [==============================] - 2s 2ms/step - loss: 0.2092 - accuracy: 0.9180 - val_loss: 0.3918 - val_accuracy: 0.8428\n",
            "Epoch 35/40\n",
            "782/782 [==============================] - 2s 2ms/step - loss: 0.1969 - accuracy: 0.9240 - val_loss: 0.3921 - val_accuracy: 0.8417\n",
            "Epoch 36/40\n",
            "782/782 [==============================] - 2s 2ms/step - loss: 0.1999 - accuracy: 0.9231 - val_loss: 0.3992 - val_accuracy: 0.8418\n",
            "Epoch 37/40\n",
            "782/782 [==============================] - 2s 2ms/step - loss: 0.1985 - accuracy: 0.9242 - val_loss: 0.4015 - val_accuracy: 0.8408\n",
            "Epoch 38/40\n",
            "782/782 [==============================] - 2s 2ms/step - loss: 0.1889 - accuracy: 0.9275 - val_loss: 0.4096 - val_accuracy: 0.8405\n",
            "Epoch 39/40\n",
            "782/782 [==============================] - 2s 2ms/step - loss: 0.1927 - accuracy: 0.9275 - val_loss: 0.4105 - val_accuracy: 0.8401\n",
            "Epoch 40/40\n",
            "782/782 [==============================] - 2s 2ms/step - loss: 0.1806 - accuracy: 0.9320 - val_loss: 0.4161 - val_accuracy: 0.8374\n",
            "Model Evaluation\n",
            "391/391 [==============================] - 0s 1ms/step - loss: 0.4006 - accuracy: 0.8463\n"
          ],
          "name": "stdout"
        },
        {
          "output_type": "execute_result",
          "data": {
            "text/plain": [
              "[0.4005816876888275, 0.8463199734687805]"
            ]
          },
          "metadata": {
            "tags": []
          },
          "execution_count": 12
        }
      ]
    },
    {
      "cell_type": "markdown",
      "metadata": {
        "id": "MS0fujEqh_m3"
      },
      "source": [
        "Define the plot_learning_curves function that plots inly the losses (not the accuracy)."
      ]
    },
    {
      "cell_type": "code",
      "metadata": {
        "id": "q5EsklC0DZYH",
        "colab": {
          "base_uri": "https://localhost:8080/",
          "height": 336
        },
        "outputId": "03d5da1f-4f33-4109-e659-96242358fca9"
      },
      "source": [
        "def plot_learning_curves(history):\n",
        "    plt.figure(figsize=(8, 5))\n",
        "    plt.plot(history.epoch,history.history['loss'], label='train loss')\n",
        "    plt.plot(history.epoch,history.history['val_loss'], label='valid loss')\n",
        "    plt.legend()\n",
        "    plt.title('loss')\n",
        "    plt.grid(True)\n",
        "    plt.show()\n",
        "plot_learning_curves(history)"
      ],
      "execution_count": 13,
      "outputs": [
        {
          "output_type": "display_data",
          "data": {
            "image/png": "[encoded data removed]",
            "text/plain": [
              "<Figure size 576x360 with 1 Axes>"
            ]
          },
          "metadata": {
            "tags": [],
            "needs_background": "light"
          }
        }
      ]
    },
    {
      "cell_type": "markdown",
      "metadata": {
        "id": "OW4Kf4fgDfOs"
      },
      "source": [
        "### [TO COMPLETE] L1 norm\n",
        "\n",
        "One possible way to solve the overitting issue is by using regularization methods. The two most common regularization methods in Deep Learning are the L1-norm regularization and the L2-norm regularization. Both These techniques are based on limiting the capacity of models, by adding a parameter norm penalty to the objective function $\\mathcal{J}$:\n",
        "$$\n",
        "\\hat{\\mathcal{J}}(\\theta,\\mathbf{X},\\mathbf{y}) = \\mathcal{J}(\\theta,\\mathbf{X},\\mathbf{y}) + \\alpha \\Omega(\\theta)\n",
        "$$\n",
        "where $\\alpha$ is a hyperparameter that weighs the relative contribution of the norm penalty $\\Omega$.\n",
        "Lets start by considering the L1-norm regularization where the regularization term is defined as:\n",
        "$$\n",
        " \\Omega(\\theta)=||\\mathbf{W}||_1=\\sum_i |\\mathbf{w}|\n",
        "$$\n",
        "Let's find the values for the $\\alpha$ parameters that allow to remove the overfitting effect."
      ]
    },
    {
      "cell_type": "code",
      "metadata": {
        "id": "QzD8520dDgw3",
        "colab": {
          "base_uri": "https://localhost:8080/",
          "height": 1000
        },
        "outputId": "a4fa1fd2-c057-4bcf-e169-44d074ba9e2e"
      },
      "source": [
        "#In Keras is neccesary to add the regularizer by using the attribute kernel_regularizer\n",
        "#to each layer whose weights will be considered in the Omega function.\n",
        "#is it also possibile to consider the bias by using the attribute bias_regularizer \n",
        "#tf.keras.regularizers.l1(alpha) perfroms the L1-norm regularization\n",
        "\n",
        "#[TO COMPLETE] copy the model that you previously defined that overfits the --->done\n",
        "#trainnig data, and add the L1-norm regularization. Use a proper value for the\n",
        "#alpha hyper-parameter, that prevents the model from overfitting. The results  \n",
        "#reached by the model in terms of loss and accuracy (in all data sets) should be\n",
        "#comparable with the ones obtained by the initial model defined in Exercise 2.1 \n",
        "\n",
        "#In general, a layer that exploits L1-norm regularization is defined as follows:\n",
        "\n",
        "#model.add(keras.layers.Dense(units=[TO COMPLETE], activation=[TO COMPLETE], kernel_regularizer=tf.keras.regularizers.l1([TO COMPLETE]))) -->done\n",
        "\n",
        "model = keras.models.Sequential([\n",
        "    tf.keras.Input(shape=(num_words,)),\n",
        "    keras.layers.Dense(units=16, activation=\"relu\", kernel_regularizer=tf.keras.regularizers.l1(1e-3)), \n",
        "    keras.layers.Dense(units=32, activation=\"relu\", kernel_regularizer=tf.keras.regularizers.l1(1e-3)), \n",
        "    keras.layers.Dense(1, activation=\"sigmoid\")\n",
        "])\n",
        "model.summary()\n",
        "#[TO COMPLETE] -->done\n",
        "\n",
        "\n",
        "model.compile(loss=\"binary_crossentropy\",\n",
        "              optimizer=keras.optimizers.Adam(learning_rate=1e-4),#[TO COMPLETE] learning rate, -->done\n",
        "              metrics=[\"accuracy\"])\n",
        "\n",
        "history = model.fit(X_train, y_train, epochs=40,#[TO COMPLETE] epochs,-->done\n",
        "                    validation_data=(X_valid, y_valid))\n",
        "\n",
        "print(\"Model Evaluation\")\n",
        "model.evaluate(X_test, y_test)\n",
        "plot_learning_curves(history)"
      ],
      "execution_count": 14,
      "outputs": [
        {
          "output_type": "stream",
          "text": [
            "Model: \"sequential_3\"\n",
            "_________________________________________________________________\n",
            "Layer (type)                 Output Shape              Param #   \n",
            "=================================================================\n",
            "dense_9 (Dense)              (None, 16)                16016     \n",
            "_________________________________________________________________\n",
            "dense_10 (Dense)             (None, 32)                544       \n",
            "_________________________________________________________________\n",
            "dense_11 (Dense)             (None, 1)                 33        \n",
            "=================================================================\n",
            "Total params: 16,593\n",
            "Trainable params: 16,593\n",
            "Non-trainable params: 0\n",
            "_________________________________________________________________\n",
            "Epoch 1/40\n",
            "782/782 [==============================] - 3s 2ms/step - loss: 1.2487 - accuracy: 0.6074 - val_loss: 0.8238 - val_accuracy: 0.8053\n",
            "Epoch 2/40\n",
            "782/782 [==============================] - 2s 2ms/step - loss: 0.7448 - accuracy: 0.8238 - val_loss: 0.6216 - val_accuracy: 0.8382\n",
            "Epoch 3/40\n",
            "782/782 [==============================] - 2s 2ms/step - loss: 0.5846 - accuracy: 0.8573 - val_loss: 0.5616 - val_accuracy: 0.8448\n",
            "Epoch 4/40\n",
            "782/782 [==============================] - 2s 2ms/step - loss: 0.5340 - accuracy: 0.8581 - val_loss: 0.5282 - val_accuracy: 0.8499\n",
            "Epoch 5/40\n",
            "782/782 [==============================] - 2s 2ms/step - loss: 0.5026 - accuracy: 0.8651 - val_loss: 0.5069 - val_accuracy: 0.8516\n",
            "Epoch 6/40\n",
            "782/782 [==============================] - 2s 2ms/step - loss: 0.4809 - accuracy: 0.8674 - val_loss: 0.4927 - val_accuracy: 0.8531\n",
            "Epoch 7/40\n",
            "782/782 [==============================] - 2s 2ms/step - loss: 0.4673 - accuracy: 0.8713 - val_loss: 0.4846 - val_accuracy: 0.8534\n",
            "Epoch 8/40\n",
            "782/782 [==============================] - 2s 2ms/step - loss: 0.4637 - accuracy: 0.8664 - val_loss: 0.4757 - val_accuracy: 0.8538\n",
            "Epoch 9/40\n",
            "782/782 [==============================] - 2s 2ms/step - loss: 0.4528 - accuracy: 0.8704 - val_loss: 0.4702 - val_accuracy: 0.8536\n",
            "Epoch 10/40\n",
            "782/782 [==============================] - 2s 2ms/step - loss: 0.4456 - accuracy: 0.8671 - val_loss: 0.4648 - val_accuracy: 0.8538\n",
            "Epoch 11/40\n",
            "782/782 [==============================] - 2s 2ms/step - loss: 0.4433 - accuracy: 0.8695 - val_loss: 0.4610 - val_accuracy: 0.8535\n",
            "Epoch 12/40\n",
            "782/782 [==============================] - 2s 2ms/step - loss: 0.4319 - accuracy: 0.8723 - val_loss: 0.4558 - val_accuracy: 0.8544\n",
            "Epoch 13/40\n",
            "782/782 [==============================] - 2s 2ms/step - loss: 0.4357 - accuracy: 0.8712 - val_loss: 0.4529 - val_accuracy: 0.8560\n",
            "Epoch 14/40\n",
            "782/782 [==============================] - 2s 2ms/step - loss: 0.4251 - accuracy: 0.8733 - val_loss: 0.4492 - val_accuracy: 0.8538\n",
            "Epoch 15/40\n",
            "782/782 [==============================] - 2s 2ms/step - loss: 0.4251 - accuracy: 0.8690 - val_loss: 0.4457 - val_accuracy: 0.8546\n",
            "Epoch 16/40\n",
            "782/782 [==============================] - 2s 2ms/step - loss: 0.4214 - accuracy: 0.8695 - val_loss: 0.4436 - val_accuracy: 0.8549\n",
            "Epoch 17/40\n",
            "782/782 [==============================] - 2s 2ms/step - loss: 0.4211 - accuracy: 0.8695 - val_loss: 0.4433 - val_accuracy: 0.8528\n",
            "Epoch 18/40\n",
            "782/782 [==============================] - 2s 2ms/step - loss: 0.4165 - accuracy: 0.8700 - val_loss: 0.4405 - val_accuracy: 0.8529\n",
            "Epoch 19/40\n",
            "782/782 [==============================] - 2s 2ms/step - loss: 0.4178 - accuracy: 0.8708 - val_loss: 0.4358 - val_accuracy: 0.8561\n",
            "Epoch 20/40\n",
            "782/782 [==============================] - 2s 2ms/step - loss: 0.4112 - accuracy: 0.8721 - val_loss: 0.4359 - val_accuracy: 0.8554\n",
            "Epoch 21/40\n",
            "782/782 [==============================] - 2s 2ms/step - loss: 0.4118 - accuracy: 0.8716 - val_loss: 0.4322 - val_accuracy: 0.8560\n",
            "Epoch 22/40\n",
            "782/782 [==============================] - 2s 2ms/step - loss: 0.4078 - accuracy: 0.8696 - val_loss: 0.4311 - val_accuracy: 0.8562\n",
            "Epoch 23/40\n",
            "782/782 [==============================] - 2s 2ms/step - loss: 0.4017 - accuracy: 0.8750 - val_loss: 0.4307 - val_accuracy: 0.8542\n",
            "Epoch 24/40\n",
            "782/782 [==============================] - 2s 2ms/step - loss: 0.4003 - accuracy: 0.8734 - val_loss: 0.4273 - val_accuracy: 0.8545\n",
            "Epoch 25/40\n",
            "782/782 [==============================] - 2s 2ms/step - loss: 0.3966 - accuracy: 0.8730 - val_loss: 0.4268 - val_accuracy: 0.8549\n",
            "Epoch 26/40\n",
            "782/782 [==============================] - 2s 2ms/step - loss: 0.4003 - accuracy: 0.8749 - val_loss: 0.4310 - val_accuracy: 0.8506\n",
            "Epoch 27/40\n",
            "782/782 [==============================] - 2s 2ms/step - loss: 0.3968 - accuracy: 0.8696 - val_loss: 0.4216 - val_accuracy: 0.8558\n",
            "Epoch 28/40\n",
            "782/782 [==============================] - 2s 2ms/step - loss: 0.3903 - accuracy: 0.8747 - val_loss: 0.4211 - val_accuracy: 0.8542\n",
            "Epoch 29/40\n",
            "782/782 [==============================] - 2s 2ms/step - loss: 0.3890 - accuracy: 0.8731 - val_loss: 0.4185 - val_accuracy: 0.8553\n",
            "Epoch 30/40\n",
            "782/782 [==============================] - 2s 2ms/step - loss: 0.3899 - accuracy: 0.8755 - val_loss: 0.4180 - val_accuracy: 0.8553\n",
            "Epoch 31/40\n",
            "782/782 [==============================] - 2s 2ms/step - loss: 0.3866 - accuracy: 0.8746 - val_loss: 0.4159 - val_accuracy: 0.8546\n",
            "Epoch 32/40\n",
            "782/782 [==============================] - 2s 2ms/step - loss: 0.3901 - accuracy: 0.8732 - val_loss: 0.4142 - val_accuracy: 0.8556\n",
            "Epoch 33/40\n",
            "782/782 [==============================] - 2s 2ms/step - loss: 0.3840 - accuracy: 0.8750 - val_loss: 0.4164 - val_accuracy: 0.8543\n",
            "Epoch 34/40\n",
            "782/782 [==============================] - 2s 2ms/step - loss: 0.3877 - accuracy: 0.8705 - val_loss: 0.4140 - val_accuracy: 0.8548\n",
            "Epoch 35/40\n",
            "782/782 [==============================] - 2s 2ms/step - loss: 0.3769 - accuracy: 0.8762 - val_loss: 0.4134 - val_accuracy: 0.8553\n",
            "Epoch 36/40\n",
            "782/782 [==============================] - 2s 2ms/step - loss: 0.3863 - accuracy: 0.8712 - val_loss: 0.4097 - val_accuracy: 0.8557\n",
            "Epoch 37/40\n",
            "782/782 [==============================] - 2s 2ms/step - loss: 0.3792 - accuracy: 0.8738 - val_loss: 0.4116 - val_accuracy: 0.8542\n",
            "Epoch 38/40\n",
            "782/782 [==============================] - 2s 2ms/step - loss: 0.3743 - accuracy: 0.8771 - val_loss: 0.4094 - val_accuracy: 0.8547\n",
            "Epoch 39/40\n",
            "782/782 [==============================] - 2s 2ms/step - loss: 0.3824 - accuracy: 0.8706 - val_loss: 0.4067 - val_accuracy: 0.8559\n",
            "Epoch 40/40\n",
            "782/782 [==============================] - 2s 2ms/step - loss: 0.3729 - accuracy: 0.8787 - val_loss: 0.4060 - val_accuracy: 0.8554\n",
            "Model Evaluation\n",
            "391/391 [==============================] - 0s 1ms/step - loss: 0.3865 - accuracy: 0.8662\n"
          ],
          "name": "stdout"
        },
        {
          "output_type": "display_data",
          "data": {
            "image/png": "[encoded data removed]",
            "text/plain": [
              "<Figure size 576x360 with 1 Axes>"
            ]
          },
          "metadata": {
            "tags": [],
            "needs_background": "light"
          }
        }
      ]
    },
    {
      "cell_type": "markdown",
      "metadata": {
        "id": "CgnCGYUvDqbC"
      },
      "source": [
        "### [TO COMPLETE] L2-norm\n",
        "\n",
        "L2-norm regularization is also known as weight decay. This strategy drives the weights closer to the origin by adding the regularization term omega which is defined as:\n",
        "$$\n",
        " \\Omega(\\theta)=\\frac{1}{2}||\\mathbf{W}||_2^2\n",
        "$$\n",
        "\n",
        "Let's find the values for the $\\alpha$ parameters that allow removing remove the overfitting effect with L2-norm."
      ]
    },
    {
      "cell_type": "code",
      "metadata": {
        "id": "qqNhu350DtJo",
        "colab": {
          "base_uri": "https://localhost:8080/",
          "height": 1000
        },
        "outputId": "ab6a1ba9-d3e8-4f62-cad6-26a8c74b939e"
      },
      "source": [
        "#[TO COMPLETE] insert the model that you previously defined that overfit the \n",
        "#trainig data, and add the L2-norm regularization. Use proper values for the\n",
        "#alpha hyper-parameters, that prevents the model from overfitting. The results  \n",
        "#reached by the model in terms of loss and accuracy (in all data sets) should be\n",
        "#comparable with the ones obtained by the initial model defined in Exercise 2.1\n",
        "\n",
        "#In general, a layer that exploits L2-norm regularization is defined as follow:\n",
        "\n",
        "#model.add(keras.layers.Dense(units=[TO COMPLETE], activation=[TO COMPLETE],kernel_regularizer=tf.keras.regularizers.l2([TO COMPLETE]))) \n",
        "\n",
        "model = keras.models.Sequential([\n",
        "    tf.keras.Input(shape=(num_words,)),\n",
        "    keras.layers.Dense(units=16, activation=\"relu\", kernel_regularizer=tf.keras.regularizers.l2(1e-2)), \n",
        "    keras.layers.Dense(units=32, activation=\"relu\", kernel_regularizer=tf.keras.regularizers.l2(1e-2)), \n",
        "    keras.layers.Dense(1, activation=\"sigmoid\")\n",
        "])\n",
        "#[TO COMPLETE] -->done\n",
        "\n",
        "model.compile(loss=\"binary_crossentropy\",\n",
        "              optimizer=keras.optimizers.Adam(learning_rate=1e-4),#[TO COMPLETE] learning rate -->done\n",
        "              metrics=[\"accuracy\"])\n",
        "\n",
        "history = model.fit(X_train, y_train, epochs=40,#[TO COMPLETE] epochs -->done\n",
        "                    validation_data=(X_valid, y_valid))\n",
        "\n",
        "print(\"Model Evaluation\")\n",
        "model.evaluate(X_test, y_test)\n",
        "plot_learning_curves(history)"
      ],
      "execution_count": 15,
      "outputs": [
        {
          "output_type": "stream",
          "text": [
            "Epoch 1/40\n",
            "782/782 [==============================] - 2s 2ms/step - loss: 1.0875 - accuracy: 0.6589 - val_loss: 0.7482 - val_accuracy: 0.8196\n",
            "Epoch 2/40\n",
            "782/782 [==============================] - 2s 2ms/step - loss: 0.6865 - accuracy: 0.8339 - val_loss: 0.5831 - val_accuracy: 0.8458\n",
            "Epoch 3/40\n",
            "782/782 [==============================] - 2s 2ms/step - loss: 0.5465 - accuracy: 0.8595 - val_loss: 0.5240 - val_accuracy: 0.8486\n",
            "Epoch 4/40\n",
            "782/782 [==============================] - 2s 2ms/step - loss: 0.4959 - accuracy: 0.8629 - val_loss: 0.4905 - val_accuracy: 0.8540\n",
            "Epoch 5/40\n",
            "782/782 [==============================] - 2s 2ms/step - loss: 0.4626 - accuracy: 0.8683 - val_loss: 0.4706 - val_accuracy: 0.8554\n",
            "Epoch 6/40\n",
            "782/782 [==============================] - 2s 2ms/step - loss: 0.4418 - accuracy: 0.8687 - val_loss: 0.4563 - val_accuracy: 0.8577\n",
            "Epoch 7/40\n",
            "782/782 [==============================] - 2s 2ms/step - loss: 0.4262 - accuracy: 0.8743 - val_loss: 0.4480 - val_accuracy: 0.8567\n",
            "Epoch 8/40\n",
            "782/782 [==============================] - 2s 2ms/step - loss: 0.4223 - accuracy: 0.8707 - val_loss: 0.4389 - val_accuracy: 0.8570\n",
            "Epoch 9/40\n",
            "782/782 [==============================] - 2s 2ms/step - loss: 0.4114 - accuracy: 0.8732 - val_loss: 0.4329 - val_accuracy: 0.8583\n",
            "Epoch 10/40\n",
            "782/782 [==============================] - 2s 2ms/step - loss: 0.4036 - accuracy: 0.8711 - val_loss: 0.4267 - val_accuracy: 0.8576\n",
            "Epoch 11/40\n",
            "782/782 [==============================] - 2s 2ms/step - loss: 0.4006 - accuracy: 0.8735 - val_loss: 0.4231 - val_accuracy: 0.8574\n",
            "Epoch 12/40\n",
            "782/782 [==============================] - 2s 2ms/step - loss: 0.3899 - accuracy: 0.8763 - val_loss: 0.4179 - val_accuracy: 0.8578\n",
            "Epoch 13/40\n",
            "782/782 [==============================] - 2s 2ms/step - loss: 0.3936 - accuracy: 0.8717 - val_loss: 0.4155 - val_accuracy: 0.8570\n",
            "Epoch 14/40\n",
            "782/782 [==============================] - 2s 2ms/step - loss: 0.3826 - accuracy: 0.8752 - val_loss: 0.4113 - val_accuracy: 0.8564\n",
            "Epoch 15/40\n",
            "782/782 [==============================] - 2s 2ms/step - loss: 0.3824 - accuracy: 0.8736 - val_loss: 0.4083 - val_accuracy: 0.8574\n",
            "Epoch 16/40\n",
            "782/782 [==============================] - 2s 2ms/step - loss: 0.3800 - accuracy: 0.8714 - val_loss: 0.4061 - val_accuracy: 0.8578\n",
            "Epoch 17/40\n",
            "782/782 [==============================] - 2s 2ms/step - loss: 0.3792 - accuracy: 0.8736 - val_loss: 0.4056 - val_accuracy: 0.8560\n",
            "Epoch 18/40\n",
            "782/782 [==============================] - 2s 2ms/step - loss: 0.3741 - accuracy: 0.8747 - val_loss: 0.4038 - val_accuracy: 0.8547\n",
            "Epoch 19/40\n",
            "782/782 [==============================] - 2s 2ms/step - loss: 0.3763 - accuracy: 0.8743 - val_loss: 0.3992 - val_accuracy: 0.8581\n",
            "Epoch 20/40\n",
            "782/782 [==============================] - 2s 2ms/step - loss: 0.3697 - accuracy: 0.8744 - val_loss: 0.3988 - val_accuracy: 0.8581\n",
            "Epoch 21/40\n",
            "782/782 [==============================] - 2s 2ms/step - loss: 0.3720 - accuracy: 0.8751 - val_loss: 0.3962 - val_accuracy: 0.8575\n",
            "Epoch 22/40\n",
            "782/782 [==============================] - 2s 2ms/step - loss: 0.3679 - accuracy: 0.8733 - val_loss: 0.3957 - val_accuracy: 0.8580\n",
            "Epoch 23/40\n",
            "782/782 [==============================] - 2s 2ms/step - loss: 0.3616 - accuracy: 0.8770 - val_loss: 0.3957 - val_accuracy: 0.8546\n",
            "Epoch 24/40\n",
            "782/782 [==============================] - 2s 2ms/step - loss: 0.3617 - accuracy: 0.8756 - val_loss: 0.3922 - val_accuracy: 0.8571\n",
            "Epoch 25/40\n",
            "782/782 [==============================] - 2s 2ms/step - loss: 0.3582 - accuracy: 0.8761 - val_loss: 0.3925 - val_accuracy: 0.8563\n",
            "Epoch 26/40\n",
            "782/782 [==============================] - 2s 2ms/step - loss: 0.3623 - accuracy: 0.8750 - val_loss: 0.3956 - val_accuracy: 0.8518\n",
            "Epoch 27/40\n",
            "782/782 [==============================] - 2s 2ms/step - loss: 0.3601 - accuracy: 0.8707 - val_loss: 0.3881 - val_accuracy: 0.8574\n",
            "Epoch 28/40\n",
            "782/782 [==============================] - 2s 2ms/step - loss: 0.3544 - accuracy: 0.8758 - val_loss: 0.3877 - val_accuracy: 0.8562\n",
            "Epoch 29/40\n",
            "782/782 [==============================] - 2s 2ms/step - loss: 0.3541 - accuracy: 0.8738 - val_loss: 0.3862 - val_accuracy: 0.8565\n",
            "Epoch 30/40\n",
            "782/782 [==============================] - 2s 2ms/step - loss: 0.3548 - accuracy: 0.8762 - val_loss: 0.3858 - val_accuracy: 0.8558\n",
            "Epoch 31/40\n",
            "782/782 [==============================] - 2s 2ms/step - loss: 0.3521 - accuracy: 0.8743 - val_loss: 0.3843 - val_accuracy: 0.8561\n",
            "Epoch 32/40\n",
            "782/782 [==============================] - 2s 2ms/step - loss: 0.3569 - accuracy: 0.8726 - val_loss: 0.3834 - val_accuracy: 0.8580\n",
            "Epoch 33/40\n",
            "782/782 [==============================] - 2s 2ms/step - loss: 0.3517 - accuracy: 0.8744 - val_loss: 0.3860 - val_accuracy: 0.8534\n",
            "Epoch 34/40\n",
            "782/782 [==============================] - 2s 2ms/step - loss: 0.3560 - accuracy: 0.8711 - val_loss: 0.3834 - val_accuracy: 0.8582\n",
            "Epoch 35/40\n",
            "782/782 [==============================] - 2s 2ms/step - loss: 0.3456 - accuracy: 0.8762 - val_loss: 0.3834 - val_accuracy: 0.8543\n",
            "Epoch 36/40\n",
            "782/782 [==============================] - 2s 2ms/step - loss: 0.3546 - accuracy: 0.8731 - val_loss: 0.3811 - val_accuracy: 0.8562\n",
            "Epoch 37/40\n",
            "782/782 [==============================] - 2s 2ms/step - loss: 0.3489 - accuracy: 0.8751 - val_loss: 0.3819 - val_accuracy: 0.8565\n",
            "Epoch 38/40\n",
            "782/782 [==============================] - 2s 2ms/step - loss: 0.3455 - accuracy: 0.8786 - val_loss: 0.3799 - val_accuracy: 0.8568\n",
            "Epoch 39/40\n",
            "782/782 [==============================] - 2s 2ms/step - loss: 0.3529 - accuracy: 0.8713 - val_loss: 0.3786 - val_accuracy: 0.8570\n",
            "Epoch 40/40\n",
            "782/782 [==============================] - 2s 2ms/step - loss: 0.3444 - accuracy: 0.8778 - val_loss: 0.3785 - val_accuracy: 0.8563\n",
            "Model Evaluation\n",
            "391/391 [==============================] - 0s 1ms/step - loss: 0.3606 - accuracy: 0.8655\n"
          ],
          "name": "stdout"
        },
        {
          "output_type": "display_data",
          "data": {
            "image/png": "[encoded data removed]",
            "text/plain": [
              "<Figure size 576x360 with 1 Axes>"
            ]
          },
          "metadata": {
            "tags": [],
            "needs_background": "light"
          }
        }
      ]
    },
    {
      "cell_type": "markdown",
      "metadata": {
        "id": "xvyKPb4DD25G"
      },
      "source": [
        "###[TO COMPLETE] Early stopping\n",
        "\n",
        "Early Stopping is a form of regularization used to avoid overfitting. It is designed to monitor the generalization error of one model and stop training when generalization error begins to degrade. In order to evaluate the generalization error, early stopping requires that a validation dataset is evaluated during training. Then, when the validation error does not improve for a specific number of epochs (patience hyper-parameter), it stops the training phase."
      ]
    },
    {
      "cell_type": "code",
      "metadata": {
        "id": "MqNOOZ11D7cq",
        "colab": {
          "base_uri": "https://localhost:8080/",
          "height": 608
        },
        "outputId": "bd599617-c913-45a4-c054-0e8889879426"
      },
      "source": [
        "#[TO COMPLETE] insert the model that you previously defined that overfit the -->done\n",
        "#trainnig data\n",
        "model = keras.models.Sequential([\n",
        "    tf.keras.Input(shape=(num_words,)),\n",
        "    keras.layers.Dense(16, activation=\"relu\"),\n",
        "    keras.layers.Dense(32, activation=\"relu\"),# BIGGER NUMBER OF NEURONS, 16-->32\n",
        "    keras.layers.Dense(1, activation=\"sigmoid\")\n",
        "])\n",
        "\n",
        "\n",
        "model.compile(loss=\"binary_crossentropy\",\n",
        "              optimizer=keras.optimizers.Adam(learning_rate=1e-4),#[TO COMPLETE] learning rate -->done\n",
        "\n",
        "              metrics=[\"accuracy\"])\n",
        "\n",
        "#Let's define a log dir in order to save the checkpoint file\n",
        "logdir = os.path.join(os.curdir, \"my_logs\", \"run_{}\".format(time.time()))\n",
        "\n",
        "#In Keras the Eraly stopping is manage by using the callbacks argument.\n",
        "callbacks = [\n",
        "    keras.callbacks.TensorBoard(logdir),\n",
        "    keras.callbacks.EarlyStopping(patience=1),#[TO COMPLETE] play with patience and find the value that prevents the model from overfitting. -->done\n",
        "\n",
        "\n",
        "    #Saving the checkpoints file allows to load the \"best\" model when the Early \n",
        "    #stopping detect that the generalization error degrade (after 'patience' epochs)\n",
        "    keras.callbacks.ModelCheckpoint(\"my_mnist_model.h5\", save_best_only=True),\n",
        "]\n",
        "\n",
        "history = model.fit(X_train, y_train, epochs=40,#[TO COMPLETE] epochs\n",
        "                    validation_data=(X_valid, y_valid),\n",
        "                    callbacks=callbacks)\n",
        "\n",
        "print(\"Model Evaluation\")\n",
        "#The early stopping stopped training after few epochs without progress, so your\n",
        "#model may already have started to overfit the training set. Since the \n",
        "#ModelCheckpoint callback only saved the best models (on the validation set) the\n",
        "#last saved model is the best on the validation set.\n",
        "model = keras.models.load_model(\"my_mnist_model.h5\")\n",
        "model.evaluate(X_test, y_test)\n",
        "plot_learning_curves(history)"
      ],
      "execution_count": 16,
      "outputs": [
        {
          "output_type": "stream",
          "text": [
            "Epoch 1/40\n",
            "782/782 [==============================] - 2s 2ms/step - loss: 0.6563 - accuracy: 0.6081 - val_loss: 0.4533 - val_accuracy: 0.8075\n",
            "Epoch 2/40\n",
            "782/782 [==============================] - 2s 2ms/step - loss: 0.4136 - accuracy: 0.8285 - val_loss: 0.3652 - val_accuracy: 0.8417\n",
            "Epoch 3/40\n",
            "782/782 [==============================] - 2s 2ms/step - loss: 0.3350 - accuracy: 0.8617 - val_loss: 0.3465 - val_accuracy: 0.8514\n",
            "Epoch 4/40\n",
            "782/782 [==============================] - 2s 2ms/step - loss: 0.3202 - accuracy: 0.8665 - val_loss: 0.3386 - val_accuracy: 0.8550\n",
            "Epoch 5/40\n",
            "782/782 [==============================] - 2s 2ms/step - loss: 0.3080 - accuracy: 0.8725 - val_loss: 0.3371 - val_accuracy: 0.8562\n",
            "Epoch 6/40\n",
            "782/782 [==============================] - 2s 2ms/step - loss: 0.2996 - accuracy: 0.8767 - val_loss: 0.3350 - val_accuracy: 0.8570\n",
            "Epoch 7/40\n",
            "782/782 [==============================] - 2s 2ms/step - loss: 0.2952 - accuracy: 0.8789 - val_loss: 0.3358 - val_accuracy: 0.8566\n",
            "Model Evaluation\n",
            "391/391 [==============================] - 1s 1ms/step - loss: 0.3170 - accuracy: 0.8670\n"
          ],
          "name": "stdout"
        },
        {
          "output_type": "display_data",
          "data": {
            "image/png": "[encoded data removed]",
            "text/plain": [
              "<Figure size 576x360 with 1 Axes>"
            ]
          },
          "metadata": {
            "tags": [],
            "needs_background": "light"
          }
        }
      ]
    },
    {
      "cell_type": "markdown",
      "metadata": {
        "id": "DCV8pwVzl9GK"
      },
      "source": [
        "## Exercise 2.3: Model Selection\n",
        "\n",
        "Hyperparameters are the parameters of the learning method itself which we have to specify a priori, i.e., before model fitting. In contrast, model parameters are parameters which arise as a result of the fit (the network weights). The aim of model selection is selecting the best hyperparameters for our deep network. Finding the right hyperparameters for a model can be crucial for the model performance on given data. For istance lets consider our model trained by using different values for the learning rate: "
      ]
    },
    {
      "cell_type": "code",
      "metadata": {
        "id": "Fw8Hs-AEmLKh"
      },
      "source": [
        "learning_rates = [1e-4, 1e-2, 1e-1]"
      ],
      "execution_count": 17,
      "outputs": []
    },
    {
      "cell_type": "code",
      "metadata": {
        "id": "mym4GOgUmWqD",
        "colab": {
          "base_uri": "https://localhost:8080/"
        },
        "outputId": "57830b82-ef9a-40e9-991d-1decad26365c"
      },
      "source": [
        "histories = []\n",
        "for learning_rate in learning_rates:\n",
        "    model = keras.models.Sequential([\n",
        "                                    tf.keras.Input(shape=(num_words,)),\n",
        "                                    keras.layers.Dense(16, activation=\"relu\"),\n",
        "                                    keras.layers.Dense(16, activation=\"relu\"),\n",
        "                                    keras.layers.Dense(1, activation=\"sigmoid\")\n",
        "                                     ])\n",
        "    model.compile(loss=\"binary_crossentropy\",\n",
        "              optimizer=keras.optimizers.Adam(learning_rate=learning_rate),\n",
        "              metrics=[\"accuracy\"])\n",
        "              \n",
        "    callbacks = [keras.callbacks.EarlyStopping(patience=2)]\n",
        "\n",
        "    history = model.fit(X_train, y_train,\n",
        "                        validation_data=(X_valid, y_valid), epochs=10,\n",
        "                        callbacks=callbacks)\n",
        "    histories.append(history)\n",
        "    print(\"evaluation on test set\")\n",
        "    model.evaluate(X_test, y_test)"
      ],
      "execution_count": 18,
      "outputs": [
        {
          "output_type": "stream",
          "text": [
            "Epoch 1/10\n",
            "782/782 [==============================] - 2s 2ms/step - loss: 0.6654 - accuracy: 0.5814 - val_loss: 0.4753 - val_accuracy: 0.8074\n",
            "Epoch 2/10\n",
            "782/782 [==============================] - 2s 2ms/step - loss: 0.4283 - accuracy: 0.8266 - val_loss: 0.3704 - val_accuracy: 0.8462\n",
            "Epoch 3/10\n",
            "782/782 [==============================] - 2s 2ms/step - loss: 0.3395 - accuracy: 0.8621 - val_loss: 0.3485 - val_accuracy: 0.8534\n",
            "Epoch 4/10\n",
            "782/782 [==============================] - 2s 2ms/step - loss: 0.3216 - accuracy: 0.8653 - val_loss: 0.3393 - val_accuracy: 0.8567\n",
            "Epoch 5/10\n",
            "782/782 [==============================] - 2s 2ms/step - loss: 0.3102 - accuracy: 0.8740 - val_loss: 0.3378 - val_accuracy: 0.8571\n",
            "Epoch 6/10\n",
            "782/782 [==============================] - 2s 2ms/step - loss: 0.3019 - accuracy: 0.8756 - val_loss: 0.3353 - val_accuracy: 0.8562\n",
            "Epoch 7/10\n",
            "782/782 [==============================] - 2s 2ms/step - loss: 0.2960 - accuracy: 0.8788 - val_loss: 0.3356 - val_accuracy: 0.8562\n",
            "Epoch 8/10\n",
            "782/782 [==============================] - 2s 2ms/step - loss: 0.3010 - accuracy: 0.8765 - val_loss: 0.3360 - val_accuracy: 0.8551\n",
            "evaluation on test set\n",
            "391/391 [==============================] - 0s 1ms/step - loss: 0.3170 - accuracy: 0.8656\n",
            "Epoch 1/10\n",
            "782/782 [==============================] - 2s 2ms/step - loss: 0.4113 - accuracy: 0.8135 - val_loss: 0.3384 - val_accuracy: 0.8513\n",
            "Epoch 2/10\n",
            "782/782 [==============================] - 2s 2ms/step - loss: 0.3187 - accuracy: 0.8599 - val_loss: 0.3431 - val_accuracy: 0.8503\n",
            "Epoch 3/10\n",
            "782/782 [==============================] - 2s 2ms/step - loss: 0.2839 - accuracy: 0.8771 - val_loss: 0.3535 - val_accuracy: 0.8486\n",
            "evaluation on test set\n",
            "391/391 [==============================] - 0s 1ms/step - loss: 0.3304 - accuracy: 0.8589\n",
            "Epoch 1/10\n",
            "782/782 [==============================] - 2s 2ms/step - loss: 0.7537 - accuracy: 0.5033 - val_loss: 0.6932 - val_accuracy: 0.5053\n",
            "Epoch 2/10\n",
            "782/782 [==============================] - 2s 2ms/step - loss: 0.6951 - accuracy: 0.5027 - val_loss: 0.6931 - val_accuracy: 0.5053\n",
            "Epoch 3/10\n",
            "782/782 [==============================] - 2s 2ms/step - loss: 0.6951 - accuracy: 0.4922 - val_loss: 0.7039 - val_accuracy: 0.4947\n",
            "Epoch 4/10\n",
            "782/782 [==============================] - 2s 2ms/step - loss: 0.6952 - accuracy: 0.5024 - val_loss: 0.6975 - val_accuracy: 0.4947\n",
            "evaluation on test set\n",
            "391/391 [==============================] - 0s 1ms/step - loss: 0.6957 - accuracy: 0.5053\n"
          ],
          "name": "stdout"
        }
      ]
    },
    {
      "cell_type": "markdown",
      "metadata": {
        "id": "RzTSjfwptkHJ"
      },
      "source": [
        "Let's plot the results"
      ]
    },
    {
      "cell_type": "code",
      "metadata": {
        "id": "cIlN1vlioIYh",
        "colab": {
          "base_uri": "https://localhost:8080/",
          "height": 981
        },
        "outputId": "fb23ba40-89f6-43df-fa44-9652a2a56db3"
      },
      "source": [
        "for learning_rate, history in zip(learning_rates, histories):\n",
        "    print(\"Learning rate:\", learning_rate)\n",
        "    plot_learning_acc_and_loss(history)"
      ],
      "execution_count": 19,
      "outputs": [
        {
          "output_type": "stream",
          "text": [
            "Learning rate: 0.0001\n"
          ],
          "name": "stdout"
        },
        {
          "output_type": "display_data",
          "data": {
            "image/png": "[encoded data removed]",
            "text/plain": [
              "<Figure size 576x360 with 1 Axes>"
            ]
          },
          "metadata": {
            "tags": [],
            "needs_background": "light"
          }
        },
        {
          "output_type": "stream",
          "text": [
            "Learning rate: 0.01\n"
          ],
          "name": "stdout"
        },
        {
          "output_type": "display_data",
          "data": {
            "image/png": "[encoded data removed]",
            "text/plain": [
              "<Figure size 576x360 with 1 Axes>"
            ]
          },
          "metadata": {
            "tags": [],
            "needs_background": "light"
          }
        },
        {
          "output_type": "stream",
          "text": [
            "Learning rate: 0.1\n"
          ],
          "name": "stdout"
        },
        {
          "output_type": "display_data",
          "data": {
            "image/png": "[encoded data removed]",
            "text/plain": [
              "<Figure size 576x360 with 1 Axes>"
            ]
          },
          "metadata": {
            "tags": [],
            "needs_background": "light"
          }
        }
      ]
    },
    {
      "cell_type": "markdown",
      "metadata": {
        "id": "_JntujSWq3e5"
      },
      "source": [
        "### [TO COMPLETE] GRID Search:\n",
        "\n",
        "Since a deep net has many hyperparameters, in order to find the best ones, we have to consider all the possible combinations of all of the possible values. One common method to perform this complex task is Grid-Search.\n",
        "Given a set of values for each hyper-parameter, Grid-Search will build a model on each parameter combination possible. It iterates through every parameter combination and stores a model for each combination. Finally, the model that obtained the best result on the validation set will be select.\n",
        "\n",
        "In order to perfrom Grid-Search we will use the GridSearchCV method from scikit-learn."
      ]
    },
    {
      "cell_type": "markdown",
      "metadata": {
        "id": "CPz629YSrDhN"
      },
      "source": [
        "Let's Create a build_model() function that takes two arguments, n_neurons, learning_rate, and builds, compiles and returns a model with the given number of of neurons and the given learning rate.\n",
        "In order to limit the time requirements of the process we will consider only these two hyper-paramters.\n",
        "\n",
        "[TO COMPLETE] in the following code cell define the build_model function."
      ]
    },
    {
      "cell_type": "code",
      "metadata": {
        "id": "oGSKWTTtqxZ4"
      },
      "source": [
        "def build_model(n_units=30, learning_rate=1e-3):\n",
        "    # The function has to build a model similar to the ones we used in previuous execises:\n",
        "    #- a input layer \n",
        "    #- one or two Dense layers composed of n_units and that exploit Relu activation function \n",
        "    #- the output layer that uses the sigmoid activation function\n",
        "    # Then, the model has to be compiled.\n",
        "    model = keras.models.Sequential([\n",
        "                                    tf.keras.Input(shape=(num_words,)),\n",
        "                                    keras.layers.Dense(n_units, activation=\"relu\"),\n",
        "                                    keras.layers.Dense(n_units, activation=\"relu\"),\n",
        "                                    keras.layers.Dense(1, activation=\"sigmoid\")\n",
        "                                     ])\n",
        "     \n",
        "    model.compile(loss=\"binary_crossentropy\",\n",
        "              optimizer=keras.optimizers.Adam(learning_rate=learning_rate),\n",
        "              metrics=[\"accuracy\"])\n",
        "    \n",
        "    \n",
        "    \n",
        "    return model\n",
        "\n",
        "    \n",
        "#Create a keras.wrappers.scikit_learn.KerasRegressor and pass the build_model \n",
        "#function to the constructor. This gives you a Scikit-Learn compatible predictor\n",
        "keras_reg = keras.wrappers.scikit_learn.KerasRegressor(build_model)"
      ],
      "execution_count": 20,
      "outputs": []
    },
    {
      "cell_type": "markdown",
      "metadata": {
        "id": "PS6W3A2LxDg5"
      },
      "source": [
        "Let's define the lists of hyper-parameters' values. Also in this case, we use a very limited size lists, but in a real-world scenario a reasonable amount of possible values should be considered (try to add some values and check how much the time required to perform the Grid-Search increases)"
      ]
    },
    {
      "cell_type": "code",
      "metadata": {
        "id": "y-uldCW3ru24"
      },
      "source": [
        "param_distribs = {\n",
        "    \"n_units\": [16, 32],# [TO COMPLETE] insert a list that contains few (2 or 3) reasonable value\n",
        "    \"learning_rate\": [1e-4, 1e-3] #[TO COMPLETE] insert a list that contains few (2 or 3) reasonable values\n",
        "    #Check how the time required to perform GRID search increases when increasing the number of values for each hyper-parameter.\n",
        "}"
      ],
      "execution_count": 21,
      "outputs": []
    },
    {
      "cell_type": "markdown",
      "metadata": {
        "id": "bEiBxVYtx_sK"
      },
      "source": [
        "Use a sklearn.model_selection.GridSearchCV to search the hyperparameter space of your KerasRegressor"
      ]
    },
    {
      "cell_type": "code",
      "metadata": {
        "id": "iobF2Bvdr9ER"
      },
      "source": [
        "from sklearn.model_selection import GridSearchCV\n",
        "\n",
        "grid_search = GridSearchCV(keras_reg, param_distribs)"
      ],
      "execution_count": 22,
      "outputs": []
    },
    {
      "cell_type": "markdown",
      "metadata": {
        "id": "LVGMcZz_yKSX"
      },
      "source": [
        "Run the Grid-Search"
      ]
    },
    {
      "cell_type": "code",
      "metadata": {
        "id": "-BA3vgTjr-hw",
        "colab": {
          "base_uri": "https://localhost:8080/"
        },
        "outputId": "4dcd51e9-a7a3-4454-fc6d-4be50d1e6c0e"
      },
      "source": [
        "\n",
        "grid_search.fit(X_train.numpy(), y_train, epochs=5,#The number of epochs can be modified (check what happens by increasing it)\n",
        "                validation_data=(X_valid.numpy(), y_valid))"
      ],
      "execution_count": 23,
      "outputs": [
        {
          "output_type": "stream",
          "text": [
            "Epoch 1/5\n",
            "625/625 [==============================] - 2s 2ms/step - loss: 0.6724 - accuracy: 0.5868 - val_loss: 0.5248 - val_accuracy: 0.7769\n",
            "Epoch 2/5\n",
            "625/625 [==============================] - 1s 2ms/step - loss: 0.4645 - accuracy: 0.8050 - val_loss: 0.3999 - val_accuracy: 0.8293\n",
            "Epoch 3/5\n",
            "625/625 [==============================] - 1s 2ms/step - loss: 0.3655 - accuracy: 0.8499 - val_loss: 0.3650 - val_accuracy: 0.8448\n",
            "Epoch 4/5\n",
            "625/625 [==============================] - 1s 2ms/step - loss: 0.3295 - accuracy: 0.8639 - val_loss: 0.3515 - val_accuracy: 0.8506\n",
            "Epoch 5/5\n",
            "625/625 [==============================] - 1s 2ms/step - loss: 0.3059 - accuracy: 0.8718 - val_loss: 0.3456 - val_accuracy: 0.8533\n",
            "157/157 [==============================] - 0s 1ms/step - loss: 0.3412 - accuracy: 0.8572\n",
            "Epoch 1/5\n",
            "625/625 [==============================] - 2s 2ms/step - loss: 0.6614 - accuracy: 0.5932 - val_loss: 0.4897 - val_accuracy: 0.7880\n",
            "Epoch 2/5\n",
            "625/625 [==============================] - 1s 2ms/step - loss: 0.4447 - accuracy: 0.8115 - val_loss: 0.3875 - val_accuracy: 0.8354\n",
            "Epoch 3/5\n",
            "625/625 [==============================] - 1s 2ms/step - loss: 0.3655 - accuracy: 0.8503 - val_loss: 0.3559 - val_accuracy: 0.8486\n",
            "Epoch 4/5\n",
            "625/625 [==============================] - 1s 2ms/step - loss: 0.3298 - accuracy: 0.8625 - val_loss: 0.3434 - val_accuracy: 0.8529\n",
            "Epoch 5/5\n",
            "625/625 [==============================] - 1s 2ms/step - loss: 0.3092 - accuracy: 0.8731 - val_loss: 0.3379 - val_accuracy: 0.8571\n",
            "157/157 [==============================] - 0s 1ms/step - loss: 0.3318 - accuracy: 0.8560\n",
            "Epoch 1/5\n",
            "625/625 [==============================] - 2s 2ms/step - loss: 0.6726 - accuracy: 0.5803 - val_loss: 0.5250 - val_accuracy: 0.7862\n",
            "Epoch 2/5\n",
            "625/625 [==============================] - 1s 2ms/step - loss: 0.4703 - accuracy: 0.8141 - val_loss: 0.3995 - val_accuracy: 0.8342\n",
            "Epoch 3/5\n",
            "625/625 [==============================] - 1s 2ms/step - loss: 0.3713 - accuracy: 0.8481 - val_loss: 0.3590 - val_accuracy: 0.8470\n",
            "Epoch 4/5\n",
            "625/625 [==============================] - 1s 2ms/step - loss: 0.3287 - accuracy: 0.8657 - val_loss: 0.3458 - val_accuracy: 0.8522\n",
            "Epoch 5/5\n",
            "625/625 [==============================] - 1s 2ms/step - loss: 0.3106 - accuracy: 0.8712 - val_loss: 0.3394 - val_accuracy: 0.8537\n",
            "157/157 [==============================] - 0s 1ms/step - loss: 0.3448 - accuracy: 0.8536\n",
            "Epoch 1/5\n",
            "625/625 [==============================] - 2s 2ms/step - loss: 0.6606 - accuracy: 0.5942 - val_loss: 0.5108 - val_accuracy: 0.7753\n",
            "Epoch 2/5\n",
            "625/625 [==============================] - 1s 2ms/step - loss: 0.4564 - accuracy: 0.8106 - val_loss: 0.3996 - val_accuracy: 0.8296\n",
            "Epoch 3/5\n",
            "625/625 [==============================] - 1s 2ms/step - loss: 0.3686 - accuracy: 0.8465 - val_loss: 0.3594 - val_accuracy: 0.8500\n",
            "Epoch 4/5\n",
            "625/625 [==============================] - 1s 2ms/step - loss: 0.3348 - accuracy: 0.8615 - val_loss: 0.3452 - val_accuracy: 0.8543\n",
            "Epoch 5/5\n",
            "625/625 [==============================] - 1s 2ms/step - loss: 0.3088 - accuracy: 0.8731 - val_loss: 0.3400 - val_accuracy: 0.8554\n",
            "157/157 [==============================] - 0s 1ms/step - loss: 0.3370 - accuracy: 0.8606\n",
            "Epoch 1/5\n",
            "625/625 [==============================] - 2s 2ms/step - loss: 0.6840 - accuracy: 0.5541 - val_loss: 0.5657 - val_accuracy: 0.7658\n",
            "Epoch 2/5\n",
            "625/625 [==============================] - 1s 2ms/step - loss: 0.5058 - accuracy: 0.7989 - val_loss: 0.4149 - val_accuracy: 0.8314\n",
            "Epoch 3/5\n",
            "625/625 [==============================] - 1s 2ms/step - loss: 0.3860 - accuracy: 0.8421 - val_loss: 0.3680 - val_accuracy: 0.8473\n",
            "Epoch 4/5\n",
            "625/625 [==============================] - 1s 2ms/step - loss: 0.3388 - accuracy: 0.8601 - val_loss: 0.3505 - val_accuracy: 0.8522\n",
            "Epoch 5/5\n",
            "625/625 [==============================] - 1s 2ms/step - loss: 0.3187 - accuracy: 0.8712 - val_loss: 0.3434 - val_accuracy: 0.8561\n",
            "157/157 [==============================] - 0s 1ms/step - loss: 0.3327 - accuracy: 0.8582\n",
            "Epoch 1/5\n",
            "625/625 [==============================] - 2s 2ms/step - loss: 0.6513 - accuracy: 0.6334 - val_loss: 0.4907 - val_accuracy: 0.7943\n",
            "Epoch 2/5\n",
            "625/625 [==============================] - 1s 2ms/step - loss: 0.4370 - accuracy: 0.8244 - val_loss: 0.3801 - val_accuracy: 0.8387\n",
            "Epoch 3/5\n",
            "625/625 [==============================] - 1s 2ms/step - loss: 0.3491 - accuracy: 0.8585 - val_loss: 0.3520 - val_accuracy: 0.8486\n",
            "Epoch 4/5\n",
            "625/625 [==============================] - 1s 2ms/step - loss: 0.3189 - accuracy: 0.8687 - val_loss: 0.3434 - val_accuracy: 0.8514\n",
            "Epoch 5/5\n",
            "625/625 [==============================] - 1s 2ms/step - loss: 0.2974 - accuracy: 0.8756 - val_loss: 0.3426 - val_accuracy: 0.8498\n",
            "157/157 [==============================] - 0s 1ms/step - loss: 0.3399 - accuracy: 0.8614\n",
            "Epoch 1/5\n",
            "625/625 [==============================] - 2s 2ms/step - loss: 0.6507 - accuracy: 0.6103 - val_loss: 0.4564 - val_accuracy: 0.8111\n",
            "Epoch 2/5\n",
            "625/625 [==============================] - 1s 2ms/step - loss: 0.4064 - accuracy: 0.8325 - val_loss: 0.3678 - val_accuracy: 0.8440\n",
            "Epoch 3/5\n",
            "625/625 [==============================] - 1s 2ms/step - loss: 0.3446 - accuracy: 0.8577 - val_loss: 0.3468 - val_accuracy: 0.8513\n",
            "Epoch 4/5\n",
            "625/625 [==============================] - 1s 2ms/step - loss: 0.3169 - accuracy: 0.8694 - val_loss: 0.3412 - val_accuracy: 0.8539\n",
            "Epoch 5/5\n",
            "625/625 [==============================] - 1s 2ms/step - loss: 0.2986 - accuracy: 0.8778 - val_loss: 0.3389 - val_accuracy: 0.8550\n",
            "157/157 [==============================] - 0s 1ms/step - loss: 0.3283 - accuracy: 0.8616\n",
            "Epoch 1/5\n",
            "625/625 [==============================] - 2s 3ms/step - loss: 0.6440 - accuracy: 0.6240 - val_loss: 0.4436 - val_accuracy: 0.8150\n",
            "Epoch 2/5\n",
            "625/625 [==============================] - 1s 2ms/step - loss: 0.3948 - accuracy: 0.8410 - val_loss: 0.3619 - val_accuracy: 0.8474\n",
            "Epoch 3/5\n",
            "625/625 [==============================] - 1s 2ms/step - loss: 0.3371 - accuracy: 0.8593 - val_loss: 0.3429 - val_accuracy: 0.8546\n",
            "Epoch 4/5\n",
            "625/625 [==============================] - 1s 2ms/step - loss: 0.3124 - accuracy: 0.8704 - val_loss: 0.3386 - val_accuracy: 0.8555\n",
            "Epoch 5/5\n",
            "625/625 [==============================] - 1s 2ms/step - loss: 0.2974 - accuracy: 0.8767 - val_loss: 0.3360 - val_accuracy: 0.8562\n",
            "157/157 [==============================] - 0s 1ms/step - loss: 0.3398 - accuracy: 0.8566\n",
            "Epoch 1/5\n",
            "625/625 [==============================] - 2s 3ms/step - loss: 0.6424 - accuracy: 0.6417 - val_loss: 0.4599 - val_accuracy: 0.8093\n",
            "Epoch 2/5\n",
            "625/625 [==============================] - 1s 2ms/step - loss: 0.4100 - accuracy: 0.8374 - val_loss: 0.3719 - val_accuracy: 0.8416\n",
            "Epoch 3/5\n",
            "625/625 [==============================] - 1s 2ms/step - loss: 0.3417 - accuracy: 0.8583 - val_loss: 0.3458 - val_accuracy: 0.8517\n",
            "Epoch 4/5\n",
            "625/625 [==============================] - 1s 2ms/step - loss: 0.3192 - accuracy: 0.8672 - val_loss: 0.3397 - val_accuracy: 0.8538\n",
            "Epoch 5/5\n",
            "625/625 [==============================] - 2s 2ms/step - loss: 0.2998 - accuracy: 0.8763 - val_loss: 0.3380 - val_accuracy: 0.8553\n",
            "157/157 [==============================] - 0s 1ms/step - loss: 0.3352 - accuracy: 0.8608\n",
            "Epoch 1/5\n",
            "625/625 [==============================] - 2s 3ms/step - loss: 0.6630 - accuracy: 0.6037 - val_loss: 0.4924 - val_accuracy: 0.7956\n",
            "Epoch 2/5\n",
            "625/625 [==============================] - 1s 2ms/step - loss: 0.4344 - accuracy: 0.8247 - val_loss: 0.3739 - val_accuracy: 0.8450\n",
            "Epoch 3/5\n",
            "625/625 [==============================] - 2s 2ms/step - loss: 0.3474 - accuracy: 0.8552 - val_loss: 0.3479 - val_accuracy: 0.8520\n",
            "Epoch 4/5\n",
            "625/625 [==============================] - 1s 2ms/step - loss: 0.3182 - accuracy: 0.8686 - val_loss: 0.3404 - val_accuracy: 0.8538\n",
            "Epoch 5/5\n",
            "625/625 [==============================] - 1s 2ms/step - loss: 0.3041 - accuracy: 0.8767 - val_loss: 0.3394 - val_accuracy: 0.8562\n",
            "157/157 [==============================] - 0s 1ms/step - loss: 0.3327 - accuracy: 0.8592\n",
            "Epoch 1/5\n",
            "625/625 [==============================] - 2s 2ms/step - loss: 0.4892 - accuracy: 0.7557 - val_loss: 0.3419 - val_accuracy: 0.8530\n",
            "Epoch 2/5\n",
            "625/625 [==============================] - 1s 2ms/step - loss: 0.3093 - accuracy: 0.8730 - val_loss: 0.3438 - val_accuracy: 0.8497\n",
            "Epoch 3/5\n",
            "625/625 [==============================] - 1s 2ms/step - loss: 0.2978 - accuracy: 0.8771 - val_loss: 0.3477 - val_accuracy: 0.8498\n",
            "Epoch 4/5\n",
            "625/625 [==============================] - 1s 2ms/step - loss: 0.2851 - accuracy: 0.8821 - val_loss: 0.3462 - val_accuracy: 0.8501\n",
            "Epoch 5/5\n",
            "625/625 [==============================] - 1s 2ms/step - loss: 0.2512 - accuracy: 0.8973 - val_loss: 0.3728 - val_accuracy: 0.8398\n",
            "157/157 [==============================] - 0s 1ms/step - loss: 0.3653 - accuracy: 0.8502\n",
            "Epoch 1/5\n",
            "625/625 [==============================] - 2s 2ms/step - loss: 0.4838 - accuracy: 0.7527 - val_loss: 0.3390 - val_accuracy: 0.8534\n",
            "Epoch 2/5\n",
            "625/625 [==============================] - 1s 2ms/step - loss: 0.3097 - accuracy: 0.8728 - val_loss: 0.3380 - val_accuracy: 0.8538\n",
            "Epoch 3/5\n",
            "625/625 [==============================] - 1s 2ms/step - loss: 0.2986 - accuracy: 0.8769 - val_loss: 0.3566 - val_accuracy: 0.8462\n",
            "Epoch 4/5\n",
            "625/625 [==============================] - 1s 2ms/step - loss: 0.2825 - accuracy: 0.8814 - val_loss: 0.3422 - val_accuracy: 0.8506\n",
            "Epoch 5/5\n",
            "625/625 [==============================] - 1s 2ms/step - loss: 0.2498 - accuracy: 0.8966 - val_loss: 0.3584 - val_accuracy: 0.8474\n",
            "157/157 [==============================] - 0s 1ms/step - loss: 0.3533 - accuracy: 0.8494\n",
            "Epoch 1/5\n",
            "625/625 [==============================] - 2s 2ms/step - loss: 0.4909 - accuracy: 0.7477 - val_loss: 0.3439 - val_accuracy: 0.8497\n",
            "Epoch 2/5\n",
            "625/625 [==============================] - 1s 2ms/step - loss: 0.3111 - accuracy: 0.8690 - val_loss: 0.3371 - val_accuracy: 0.8552\n",
            "Epoch 3/5\n",
            "625/625 [==============================] - 1s 2ms/step - loss: 0.2984 - accuracy: 0.8742 - val_loss: 0.3468 - val_accuracy: 0.8494\n",
            "Epoch 4/5\n",
            "625/625 [==============================] - 1s 2ms/step - loss: 0.2827 - accuracy: 0.8815 - val_loss: 0.3414 - val_accuracy: 0.8505\n",
            "Epoch 5/5\n",
            "625/625 [==============================] - 1s 2ms/step - loss: 0.2547 - accuracy: 0.8938 - val_loss: 0.3497 - val_accuracy: 0.8474\n",
            "157/157 [==============================] - 0s 1ms/step - loss: 0.3494 - accuracy: 0.8474\n",
            "Epoch 1/5\n",
            "625/625 [==============================] - 2s 2ms/step - loss: 0.4922 - accuracy: 0.7542 - val_loss: 0.3522 - val_accuracy: 0.8482\n",
            "Epoch 2/5\n",
            "625/625 [==============================] - 1s 2ms/step - loss: 0.3119 - accuracy: 0.8712 - val_loss: 0.3362 - val_accuracy: 0.8539\n",
            "Epoch 3/5\n",
            "625/625 [==============================] - 1s 2ms/step - loss: 0.2971 - accuracy: 0.8749 - val_loss: 0.3433 - val_accuracy: 0.8482\n",
            "Epoch 4/5\n",
            "625/625 [==============================] - 1s 2ms/step - loss: 0.2818 - accuracy: 0.8844 - val_loss: 0.3403 - val_accuracy: 0.8500\n",
            "Epoch 5/5\n",
            "625/625 [==============================] - 1s 2ms/step - loss: 0.2564 - accuracy: 0.8910 - val_loss: 0.3469 - val_accuracy: 0.8497\n",
            "157/157 [==============================] - 0s 1ms/step - loss: 0.3410 - accuracy: 0.8536\n",
            "Epoch 1/5\n",
            "625/625 [==============================] - 2s 2ms/step - loss: 0.5111 - accuracy: 0.7448 - val_loss: 0.3585 - val_accuracy: 0.8436\n",
            "Epoch 2/5\n",
            "625/625 [==============================] - 1s 2ms/step - loss: 0.3214 - accuracy: 0.8680 - val_loss: 0.3446 - val_accuracy: 0.8527\n",
            "Epoch 3/5\n",
            "625/625 [==============================] - 1s 2ms/step - loss: 0.3064 - accuracy: 0.8694 - val_loss: 0.3534 - val_accuracy: 0.8478\n",
            "Epoch 4/5\n",
            "625/625 [==============================] - 1s 2ms/step - loss: 0.2978 - accuracy: 0.8779 - val_loss: 0.3434 - val_accuracy: 0.8514\n",
            "Epoch 5/5\n",
            "625/625 [==============================] - 1s 2ms/step - loss: 0.2748 - accuracy: 0.8869 - val_loss: 0.3462 - val_accuracy: 0.8479\n",
            "157/157 [==============================] - 0s 1ms/step - loss: 0.3285 - accuracy: 0.8614\n",
            "Epoch 1/5\n",
            "625/625 [==============================] - 2s 3ms/step - loss: 0.4671 - accuracy: 0.7754 - val_loss: 0.3399 - val_accuracy: 0.8523\n",
            "Epoch 2/5\n",
            "625/625 [==============================] - 1s 2ms/step - loss: 0.3049 - accuracy: 0.8725 - val_loss: 0.3390 - val_accuracy: 0.8514\n",
            "Epoch 3/5\n",
            "625/625 [==============================] - 1s 2ms/step - loss: 0.2800 - accuracy: 0.8822 - val_loss: 0.3415 - val_accuracy: 0.8504\n",
            "Epoch 4/5\n",
            "625/625 [==============================] - 1s 2ms/step - loss: 0.2539 - accuracy: 0.8917 - val_loss: 0.3563 - val_accuracy: 0.8461\n",
            "Epoch 5/5\n",
            "625/625 [==============================] - 2s 2ms/step - loss: 0.2054 - accuracy: 0.9128 - val_loss: 0.4161 - val_accuracy: 0.8330\n",
            "157/157 [==============================] - 0s 1ms/step - loss: 0.3932 - accuracy: 0.8456\n",
            "Epoch 1/5\n",
            "625/625 [==============================] - 2s 3ms/step - loss: 0.4749 - accuracy: 0.7707 - val_loss: 0.3389 - val_accuracy: 0.8523\n",
            "Epoch 2/5\n",
            "625/625 [==============================] - 1s 2ms/step - loss: 0.3061 - accuracy: 0.8744 - val_loss: 0.3341 - val_accuracy: 0.8554\n",
            "Epoch 3/5\n",
            "625/625 [==============================] - 1s 2ms/step - loss: 0.2852 - accuracy: 0.8805 - val_loss: 0.3579 - val_accuracy: 0.8430\n",
            "Epoch 4/5\n",
            "625/625 [==============================] - 1s 2ms/step - loss: 0.2573 - accuracy: 0.8943 - val_loss: 0.3533 - val_accuracy: 0.8453\n",
            "Epoch 5/5\n",
            "625/625 [==============================] - 2s 2ms/step - loss: 0.1956 - accuracy: 0.9230 - val_loss: 0.3896 - val_accuracy: 0.8410\n",
            "157/157 [==============================] - 0s 1ms/step - loss: 0.3708 - accuracy: 0.8512\n",
            "Epoch 1/5\n",
            "625/625 [==============================] - 2s 3ms/step - loss: 0.4831 - accuracy: 0.7619 - val_loss: 0.3400 - val_accuracy: 0.8522\n",
            "Epoch 2/5\n",
            "625/625 [==============================] - 2s 2ms/step - loss: 0.3062 - accuracy: 0.8720 - val_loss: 0.3338 - val_accuracy: 0.8549\n",
            "Epoch 3/5\n",
            "625/625 [==============================] - 1s 2ms/step - loss: 0.2808 - accuracy: 0.8829 - val_loss: 0.3512 - val_accuracy: 0.8458\n",
            "Epoch 4/5\n",
            "625/625 [==============================] - 2s 2ms/step - loss: 0.2427 - accuracy: 0.9008 - val_loss: 0.3638 - val_accuracy: 0.8458\n",
            "Epoch 5/5\n",
            "625/625 [==============================] - 1s 2ms/step - loss: 0.1810 - accuracy: 0.9312 - val_loss: 0.4145 - val_accuracy: 0.8359\n",
            "157/157 [==============================] - 0s 1ms/step - loss: 0.4098 - accuracy: 0.8442\n",
            "Epoch 1/5\n",
            "625/625 [==============================] - 2s 3ms/step - loss: 0.4703 - accuracy: 0.7746 - val_loss: 0.3471 - val_accuracy: 0.8490\n",
            "Epoch 2/5\n",
            "625/625 [==============================] - 1s 2ms/step - loss: 0.3000 - accuracy: 0.8750 - val_loss: 0.3316 - val_accuracy: 0.8550\n",
            "Epoch 3/5\n",
            "625/625 [==============================] - 2s 2ms/step - loss: 0.2719 - accuracy: 0.8848 - val_loss: 0.3455 - val_accuracy: 0.8480\n",
            "Epoch 4/5\n",
            "625/625 [==============================] - 2s 2ms/step - loss: 0.2356 - accuracy: 0.9062 - val_loss: 0.3660 - val_accuracy: 0.8444\n",
            "Epoch 5/5\n",
            "625/625 [==============================] - 1s 2ms/step - loss: 0.1826 - accuracy: 0.9270 - val_loss: 0.3997 - val_accuracy: 0.8407\n",
            "157/157 [==============================] - 0s 1ms/step - loss: 0.3944 - accuracy: 0.8452\n",
            "Epoch 1/5\n",
            "625/625 [==============================] - 2s 3ms/step - loss: 0.4679 - accuracy: 0.7727 - val_loss: 0.3555 - val_accuracy: 0.8451\n",
            "Epoch 2/5\n",
            "625/625 [==============================] - 1s 2ms/step - loss: 0.3128 - accuracy: 0.8680 - val_loss: 0.3349 - val_accuracy: 0.8527\n",
            "Epoch 3/5\n",
            "625/625 [==============================] - 1s 2ms/step - loss: 0.2880 - accuracy: 0.8747 - val_loss: 0.3524 - val_accuracy: 0.8482\n",
            "Epoch 4/5\n",
            "625/625 [==============================] - 1s 2ms/step - loss: 0.2571 - accuracy: 0.8927 - val_loss: 0.3505 - val_accuracy: 0.8478\n",
            "Epoch 5/5\n",
            "625/625 [==============================] - 1s 2ms/step - loss: 0.2072 - accuracy: 0.9164 - val_loss: 0.3842 - val_accuracy: 0.8448\n",
            "157/157 [==============================] - 0s 1ms/step - loss: 0.3766 - accuracy: 0.8496\n",
            "Epoch 1/5\n",
            "782/782 [==============================] - 2s 2ms/step - loss: 0.6446 - accuracy: 0.6090 - val_loss: 0.4307 - val_accuracy: 0.8198\n",
            "Epoch 2/5\n",
            "782/782 [==============================] - 2s 2ms/step - loss: 0.3934 - accuracy: 0.8371 - val_loss: 0.3577 - val_accuracy: 0.8473\n",
            "Epoch 3/5\n",
            "782/782 [==============================] - 2s 2ms/step - loss: 0.3247 - accuracy: 0.8669 - val_loss: 0.3432 - val_accuracy: 0.8556\n",
            "Epoch 4/5\n",
            "782/782 [==============================] - 2s 2ms/step - loss: 0.3132 - accuracy: 0.8707 - val_loss: 0.3389 - val_accuracy: 0.8582\n",
            "Epoch 5/5\n",
            "782/782 [==============================] - 2s 2ms/step - loss: 0.3025 - accuracy: 0.8778 - val_loss: 0.3371 - val_accuracy: 0.8581\n"
          ],
          "name": "stdout"
        },
        {
          "output_type": "execute_result",
          "data": {
            "text/plain": [
              "GridSearchCV(cv=None, error_score=nan,\n",
              "             estimator=<tensorflow.python.keras.wrappers.scikit_learn.KerasRegressor object at 0x7fdcf814e090>,\n",
              "             iid='deprecated', n_jobs=None,\n",
              "             param_grid={'learning_rate': [0.0001, 0.001], 'n_units': [16, 32]},\n",
              "             pre_dispatch='2*n_jobs', refit=True, return_train_score=False,\n",
              "             scoring=None, verbose=0)"
            ]
          },
          "metadata": {
            "tags": []
          },
          "execution_count": 23
        }
      ]
    },
    {
      "cell_type": "markdown",
      "metadata": {
        "id": "aadmkiOoyM94"
      },
      "source": [
        "Print the best hyper-parameters, and evealuate the best model on the test set."
      ]
    },
    {
      "cell_type": "code",
      "metadata": {
        "id": "b0nL5OZkylNX",
        "colab": {
          "base_uri": "https://localhost:8080/"
        },
        "outputId": "6f636e90-a2a0-47a8-e567-785c50f7e03d"
      },
      "source": [
        "print(grid_search.best_params_)\n",
        "\n",
        "model = grid_search.best_estimator_.model\n",
        "model.evaluate(X_test, y_test)"
      ],
      "execution_count": 24,
      "outputs": [
        {
          "output_type": "stream",
          "text": [
            "{'learning_rate': 0.0001, 'n_units': 32}\n",
            "391/391 [==============================] - 0s 1ms/step - loss: 0.3192 - accuracy: 0.8641\n"
          ],
          "name": "stdout"
        },
        {
          "output_type": "execute_result",
          "data": {
            "text/plain": [
              "[0.31922876834869385, 0.864080011844635]"
            ]
          },
          "metadata": {
            "tags": []
          },
          "execution_count": 24
        }
      ]
    }
  ]
}